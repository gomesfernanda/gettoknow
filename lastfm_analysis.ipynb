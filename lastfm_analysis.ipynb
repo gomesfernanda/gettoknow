{
 "cells": [
  {
   "cell_type": "markdown",
   "metadata": {},
   "source": [
    "# Analysis of last.fm reports\n",
    "\n",
    "Now we'll analyze the stats for my user, `fergomes`.\n",
    "\n",
    "The first thing you need to do to perform this study is collect all the tracks for your user (or whatever user you want to analyze). This can be done running the python script `lastfm_get_user_historical_tracks.py` on this repo (go to the repo main page and go through the README).\n",
    "\n",
    "For those who are not familiar, Last.fm is a service that collects and stores what you listen to on many devices. I use the service since 2006, and I had several connectors in the past, including Winamp!\n",
    "\n",
    "On last.fm dialect, a `scrobble` is a unique track that was listened to on a period of time, and transferred to the platform.\n",
    "\n",
    "To know more about the platform, check https://www.last.fm/.\n",
    "If you feel interested on using the service but doesn't know how to scrobble your tracks, check here: https://www.last.fm/about/trackmymusic"
   ]
  },
  {
   "cell_type": "code",
   "execution_count": 1,
   "metadata": {},
   "outputs": [],
   "source": [
    "import pandas as pd\n",
    "import matplotlib.pyplot as plt\n",
    "from collections import Counter\n",
    "import seaborn as sns\n",
    "import datetime\n",
    "import csv\n",
    "from os import listdir, makedirs\n",
    "from os.path import isfile, join, exists\n",
    "import shutil\n",
    "import datetime\n",
    "from pytz import timezone\n",
    "import numpy as np"
   ]
  },
  {
   "cell_type": "code",
   "execution_count": 2,
   "metadata": {},
   "outputs": [],
   "source": [
    "user = 'ohhrosie'\n",
    "\n",
    "directory = 'export_' + str(user) + '/'\n",
    "name_file = 'historical_tracks_'\n",
    "\n",
    "def get_last_file(user, mypath, name_file):\n",
    "    if not exists(mypath):\n",
    "        makedirs(mypath)\n",
    "    onlyfiles = [f for f in listdir(mypath) if isfile(join(mypath, f))\n",
    "                                            if str(name_file) + str(user) in join(mypath, f)\n",
    "                                            if 'partial' not in join(mypath, f)]\n",
    "    if onlyfiles == []:\n",
    "        return None\n",
    "    else:\n",
    "        return max(onlyfiles)"
   ]
  },
  {
   "cell_type": "code",
   "execution_count": 3,
   "metadata": {},
   "outputs": [],
   "source": [
    "file = get_last_file(user, directory, name_file)\n",
    "\n",
    "if file == None:\n",
    "    print('No file found.')"
   ]
  },
  {
   "cell_type": "code",
   "execution_count": 4,
   "metadata": {},
   "outputs": [],
   "source": [
    "df = pd.read_csv(directory + file, sep=',')"
   ]
  },
  {
   "cell_type": "code",
   "execution_count": 5,
   "metadata": {},
   "outputs": [],
   "source": [
    "br = timezone('America/Sao_Paulo')\n",
    "sp = timezone('Europe/Madrid')\n",
    "\n",
    "date_moved = int(datetime.datetime(2017,2,6,0,0).timestamp())\n",
    "\n",
    "list_date_formatted = []\n",
    "\n",
    "for i in range(len(df)):\n",
    "    date_epoch = int(df.iloc[i]['date'])\n",
    "    if user == 'fergomes' and int(date_epoch) > date_moved:\n",
    "        date_f = datetime.datetime.fromtimestamp(int(date_epoch), tz=sp)\n",
    "    else:\n",
    "        date_f = datetime.datetime.fromtimestamp(int(date_epoch), tz=br)\n",
    "    list_date_formatted.append(date_f)\n",
    "\n",
    "df['date_formatted'] = list_date_formatted\n",
    "df['weekday'] = [datetime.date(idx.year, idx.month, idx.day).strftime('%A') for idx in df['date_formatted']]\n",
    "df['weekday_num'] = [datetime.date(idx.year, idx.month, idx.day).isoweekday() for idx in df['date_formatted']]\n",
    "df['hour'] = [idx.hour for idx in df['date_formatted']]\n",
    "df['month'] = [idx.month for idx in df['date_formatted']]\n",
    "df['year'] = [idx.year for idx in df['date_formatted']]"
   ]
  },
  {
   "cell_type": "code",
   "execution_count": 6,
   "metadata": {},
   "outputs": [
    {
     "data": {
      "text/html": [
       "<div>\n",
       "<style scoped>\n",
       "    .dataframe tbody tr th:only-of-type {\n",
       "        vertical-align: middle;\n",
       "    }\n",
       "\n",
       "    .dataframe tbody tr th {\n",
       "        vertical-align: top;\n",
       "    }\n",
       "\n",
       "    .dataframe thead th {\n",
       "        text-align: right;\n",
       "    }\n",
       "</style>\n",
       "<table border=\"1\" class=\"dataframe\">\n",
       "  <thead>\n",
       "    <tr style=\"text-align: right;\">\n",
       "      <th></th>\n",
       "      <th>#scrobble</th>\n",
       "      <th>date</th>\n",
       "      <th>date_fmt</th>\n",
       "      <th>mbid</th>\n",
       "      <th>artist</th>\n",
       "      <th>track</th>\n",
       "      <th>album</th>\n",
       "      <th>loved</th>\n",
       "      <th>tags</th>\n",
       "      <th>danceability</th>\n",
       "      <th>...</th>\n",
       "      <th>instrumentalness</th>\n",
       "      <th>liveness</th>\n",
       "      <th>valence</th>\n",
       "      <th>tempo</th>\n",
       "      <th>date_formatted</th>\n",
       "      <th>weekday</th>\n",
       "      <th>weekday_num</th>\n",
       "      <th>hour</th>\n",
       "      <th>month</th>\n",
       "      <th>year</th>\n",
       "    </tr>\n",
       "  </thead>\n",
       "  <tbody>\n",
       "    <tr>\n",
       "      <th>0</th>\n",
       "      <td>1</td>\n",
       "      <td>1108290000</td>\n",
       "      <td>2005-02-13 10:20:00</td>\n",
       "      <td>1a936dfb-83e6-30f2-b776-7ab40f4a0b8f</td>\n",
       "      <td>Oasis</td>\n",
       "      <td>Pass Me Down the Wine</td>\n",
       "      <td>The Importance of Being Idle</td>\n",
       "      <td>0</td>\n",
       "      <td>['britpop', 'rock', 'british', 'alternative', ...</td>\n",
       "      <td>NaN</td>\n",
       "      <td>...</td>\n",
       "      <td>NaN</td>\n",
       "      <td>NaN</td>\n",
       "      <td>NaN</td>\n",
       "      <td>NaN</td>\n",
       "      <td>2005-02-13 08:20:00-02:00</td>\n",
       "      <td>Sunday</td>\n",
       "      <td>7</td>\n",
       "      <td>8</td>\n",
       "      <td>2</td>\n",
       "      <td>2005</td>\n",
       "    </tr>\n",
       "    <tr>\n",
       "      <th>1</th>\n",
       "      <td>2</td>\n",
       "      <td>1108290000</td>\n",
       "      <td>2005-02-13 10:20:00</td>\n",
       "      <td>0766f36b-dd65-394d-a511-7aac61687dc1</td>\n",
       "      <td>Oasis</td>\n",
       "      <td>Hey Now!</td>\n",
       "      <td>(What's the Story) Morning Glory?</td>\n",
       "      <td>0</td>\n",
       "      <td>['britpop', 'rock', 'british', 'alternative', ...</td>\n",
       "      <td>0.140</td>\n",
       "      <td>...</td>\n",
       "      <td>0.001420</td>\n",
       "      <td>0.3570</td>\n",
       "      <td>0.212</td>\n",
       "      <td>202.453</td>\n",
       "      <td>2005-02-13 08:20:00-02:00</td>\n",
       "      <td>Sunday</td>\n",
       "      <td>7</td>\n",
       "      <td>8</td>\n",
       "      <td>2</td>\n",
       "      <td>2005</td>\n",
       "    </tr>\n",
       "    <tr>\n",
       "      <th>2</th>\n",
       "      <td>3</td>\n",
       "      <td>1140643055</td>\n",
       "      <td>2006-02-22 21:17:35</td>\n",
       "      <td>02eb39ae-de6d-314d-8554-af191cd9038e</td>\n",
       "      <td>Anja Garbarek</td>\n",
       "      <td>Beyond my control</td>\n",
       "      <td>NaN</td>\n",
       "      <td>0</td>\n",
       "      <td>['trip-hop', 'female vocalists', 'norwegian', ...</td>\n",
       "      <td>0.693</td>\n",
       "      <td>...</td>\n",
       "      <td>0.000055</td>\n",
       "      <td>0.2170</td>\n",
       "      <td>0.396</td>\n",
       "      <td>115.946</td>\n",
       "      <td>2006-02-22 18:17:35-03:00</td>\n",
       "      <td>Wednesday</td>\n",
       "      <td>3</td>\n",
       "      <td>18</td>\n",
       "      <td>2</td>\n",
       "      <td>2006</td>\n",
       "    </tr>\n",
       "    <tr>\n",
       "      <th>3</th>\n",
       "      <td>4</td>\n",
       "      <td>1140643375</td>\n",
       "      <td>2006-02-22 21:22:55</td>\n",
       "      <td>144eb69f-f8da-3e32-aa4e-c909785a5651</td>\n",
       "      <td>Anja Garbarek</td>\n",
       "      <td>The Last Trick</td>\n",
       "      <td>Briefly Shaking</td>\n",
       "      <td>0</td>\n",
       "      <td>['trip-hop', 'female vocalists', 'norwegian', ...</td>\n",
       "      <td>0.318</td>\n",
       "      <td>...</td>\n",
       "      <td>0.000427</td>\n",
       "      <td>0.1060</td>\n",
       "      <td>0.174</td>\n",
       "      <td>92.071</td>\n",
       "      <td>2006-02-22 18:22:55-03:00</td>\n",
       "      <td>Wednesday</td>\n",
       "      <td>3</td>\n",
       "      <td>18</td>\n",
       "      <td>2</td>\n",
       "      <td>2006</td>\n",
       "    </tr>\n",
       "    <tr>\n",
       "      <th>4</th>\n",
       "      <td>5</td>\n",
       "      <td>1140643675</td>\n",
       "      <td>2006-02-22 21:27:55</td>\n",
       "      <td>01283f7f-de87-4cc2-824e-ab1d448964a3</td>\n",
       "      <td>Basement Jaxx</td>\n",
       "      <td>Good Luck</td>\n",
       "      <td>NaN</td>\n",
       "      <td>0</td>\n",
       "      <td>['electronic', 'dance', 'house', 'electronica'...</td>\n",
       "      <td>0.570</td>\n",
       "      <td>...</td>\n",
       "      <td>0.000003</td>\n",
       "      <td>0.5920</td>\n",
       "      <td>0.306</td>\n",
       "      <td>154.070</td>\n",
       "      <td>2006-02-22 18:27:55-03:00</td>\n",
       "      <td>Wednesday</td>\n",
       "      <td>3</td>\n",
       "      <td>18</td>\n",
       "      <td>2</td>\n",
       "      <td>2006</td>\n",
       "    </tr>\n",
       "    <tr>\n",
       "      <th>5</th>\n",
       "      <td>6</td>\n",
       "      <td>1140644060</td>\n",
       "      <td>2006-02-22 21:34:20</td>\n",
       "      <td>04f8a2d4-9b37-34d2-8358-4d41dd7b048a</td>\n",
       "      <td>Goldfrapp</td>\n",
       "      <td>Ride a White Horse</td>\n",
       "      <td>Supernature</td>\n",
       "      <td>0</td>\n",
       "      <td>['electronic', 'trip-hop', 'female vocalists',...</td>\n",
       "      <td>0.674</td>\n",
       "      <td>...</td>\n",
       "      <td>0.140000</td>\n",
       "      <td>0.0797</td>\n",
       "      <td>0.362</td>\n",
       "      <td>121.607</td>\n",
       "      <td>2006-02-22 18:34:20-03:00</td>\n",
       "      <td>Wednesday</td>\n",
       "      <td>3</td>\n",
       "      <td>18</td>\n",
       "      <td>2</td>\n",
       "      <td>2006</td>\n",
       "    </tr>\n",
       "    <tr>\n",
       "      <th>6</th>\n",
       "      <td>7</td>\n",
       "      <td>1140644293</td>\n",
       "      <td>2006-02-22 21:38:13</td>\n",
       "      <td>00aff98d-7993-3498-9010-cd6b40199ac7</td>\n",
       "      <td>Goldfrapp</td>\n",
       "      <td>Ooh La La</td>\n",
       "      <td>Supernature</td>\n",
       "      <td>1</td>\n",
       "      <td>['electronic', 'trip-hop', 'female vocalists',...</td>\n",
       "      <td>0.480</td>\n",
       "      <td>...</td>\n",
       "      <td>0.642000</td>\n",
       "      <td>0.1160</td>\n",
       "      <td>0.199</td>\n",
       "      <td>144.514</td>\n",
       "      <td>2006-02-22 18:38:13-03:00</td>\n",
       "      <td>Wednesday</td>\n",
       "      <td>3</td>\n",
       "      <td>18</td>\n",
       "      <td>2</td>\n",
       "      <td>2006</td>\n",
       "    </tr>\n",
       "    <tr>\n",
       "      <th>7</th>\n",
       "      <td>8</td>\n",
       "      <td>1140644512</td>\n",
       "      <td>2006-02-22 21:41:52</td>\n",
       "      <td>06adcc45-d37c-3437-9a9d-b3848ed3d14a</td>\n",
       "      <td>Goldfrapp</td>\n",
       "      <td>Strict Machine</td>\n",
       "      <td>NaN</td>\n",
       "      <td>0</td>\n",
       "      <td>['electronic', 'trip-hop', 'female vocalists',...</td>\n",
       "      <td>0.634</td>\n",
       "      <td>...</td>\n",
       "      <td>0.160000</td>\n",
       "      <td>0.1120</td>\n",
       "      <td>0.450</td>\n",
       "      <td>125.998</td>\n",
       "      <td>2006-02-22 18:41:52-03:00</td>\n",
       "      <td>Wednesday</td>\n",
       "      <td>3</td>\n",
       "      <td>18</td>\n",
       "      <td>2</td>\n",
       "      <td>2006</td>\n",
       "    </tr>\n",
       "    <tr>\n",
       "      <th>8</th>\n",
       "      <td>9</td>\n",
       "      <td>1140644734</td>\n",
       "      <td>2006-02-22 21:45:34</td>\n",
       "      <td>01b30b41-59b2-36df-be31-6a5ff77c1889</td>\n",
       "      <td>Oasis</td>\n",
       "      <td>Stop Crying Your Heart Out</td>\n",
       "      <td>Heathen Chemistry</td>\n",
       "      <td>0</td>\n",
       "      <td>['britpop', 'rock', 'british', 'alternative', ...</td>\n",
       "      <td>0.379</td>\n",
       "      <td>...</td>\n",
       "      <td>0.000002</td>\n",
       "      <td>0.1180</td>\n",
       "      <td>0.083</td>\n",
       "      <td>74.983</td>\n",
       "      <td>2006-02-22 18:45:34-03:00</td>\n",
       "      <td>Wednesday</td>\n",
       "      <td>3</td>\n",
       "      <td>18</td>\n",
       "      <td>2</td>\n",
       "      <td>2006</td>\n",
       "    </tr>\n",
       "    <tr>\n",
       "      <th>9</th>\n",
       "      <td>10</td>\n",
       "      <td>1140644998</td>\n",
       "      <td>2006-02-22 21:49:58</td>\n",
       "      <td>e5070101-0211-3e47-81b4-6c07347ebd98</td>\n",
       "      <td>Oasis</td>\n",
       "      <td>weight of the world</td>\n",
       "      <td>NaN</td>\n",
       "      <td>0</td>\n",
       "      <td>['britpop', 'rock', 'british', 'alternative', ...</td>\n",
       "      <td>NaN</td>\n",
       "      <td>...</td>\n",
       "      <td>NaN</td>\n",
       "      <td>NaN</td>\n",
       "      <td>NaN</td>\n",
       "      <td>NaN</td>\n",
       "      <td>2006-02-22 18:49:58-03:00</td>\n",
       "      <td>Wednesday</td>\n",
       "      <td>3</td>\n",
       "      <td>18</td>\n",
       "      <td>2</td>\n",
       "      <td>2006</td>\n",
       "    </tr>\n",
       "  </tbody>\n",
       "</table>\n",
       "<p>10 rows × 26 columns</p>\n",
       "</div>"
      ],
      "text/plain": [
       "   #scrobble        date             date_fmt  \\\n",
       "0          1  1108290000  2005-02-13 10:20:00   \n",
       "1          2  1108290000  2005-02-13 10:20:00   \n",
       "2          3  1140643055  2006-02-22 21:17:35   \n",
       "3          4  1140643375  2006-02-22 21:22:55   \n",
       "4          5  1140643675  2006-02-22 21:27:55   \n",
       "5          6  1140644060  2006-02-22 21:34:20   \n",
       "6          7  1140644293  2006-02-22 21:38:13   \n",
       "7          8  1140644512  2006-02-22 21:41:52   \n",
       "8          9  1140644734  2006-02-22 21:45:34   \n",
       "9         10  1140644998  2006-02-22 21:49:58   \n",
       "\n",
       "                                   mbid         artist  \\\n",
       "0  1a936dfb-83e6-30f2-b776-7ab40f4a0b8f          Oasis   \n",
       "1  0766f36b-dd65-394d-a511-7aac61687dc1          Oasis   \n",
       "2  02eb39ae-de6d-314d-8554-af191cd9038e  Anja Garbarek   \n",
       "3  144eb69f-f8da-3e32-aa4e-c909785a5651  Anja Garbarek   \n",
       "4  01283f7f-de87-4cc2-824e-ab1d448964a3  Basement Jaxx   \n",
       "5  04f8a2d4-9b37-34d2-8358-4d41dd7b048a      Goldfrapp   \n",
       "6  00aff98d-7993-3498-9010-cd6b40199ac7      Goldfrapp   \n",
       "7  06adcc45-d37c-3437-9a9d-b3848ed3d14a      Goldfrapp   \n",
       "8  01b30b41-59b2-36df-be31-6a5ff77c1889          Oasis   \n",
       "9  e5070101-0211-3e47-81b4-6c07347ebd98          Oasis   \n",
       "\n",
       "                        track                              album  loved  \\\n",
       "0       Pass Me Down the Wine       The Importance of Being Idle      0   \n",
       "1                    Hey Now!  (What's the Story) Morning Glory?      0   \n",
       "2           Beyond my control                                NaN      0   \n",
       "3              The Last Trick                    Briefly Shaking      0   \n",
       "4                   Good Luck                                NaN      0   \n",
       "5          Ride a White Horse                        Supernature      0   \n",
       "6                   Ooh La La                        Supernature      1   \n",
       "7              Strict Machine                                NaN      0   \n",
       "8  Stop Crying Your Heart Out                  Heathen Chemistry      0   \n",
       "9         weight of the world                                NaN      0   \n",
       "\n",
       "                                                tags  danceability  ...  \\\n",
       "0  ['britpop', 'rock', 'british', 'alternative', ...           NaN  ...   \n",
       "1  ['britpop', 'rock', 'british', 'alternative', ...         0.140  ...   \n",
       "2  ['trip-hop', 'female vocalists', 'norwegian', ...         0.693  ...   \n",
       "3  ['trip-hop', 'female vocalists', 'norwegian', ...         0.318  ...   \n",
       "4  ['electronic', 'dance', 'house', 'electronica'...         0.570  ...   \n",
       "5  ['electronic', 'trip-hop', 'female vocalists',...         0.674  ...   \n",
       "6  ['electronic', 'trip-hop', 'female vocalists',...         0.480  ...   \n",
       "7  ['electronic', 'trip-hop', 'female vocalists',...         0.634  ...   \n",
       "8  ['britpop', 'rock', 'british', 'alternative', ...         0.379  ...   \n",
       "9  ['britpop', 'rock', 'british', 'alternative', ...           NaN  ...   \n",
       "\n",
       "   instrumentalness  liveness  valence    tempo            date_formatted  \\\n",
       "0               NaN       NaN      NaN      NaN 2005-02-13 08:20:00-02:00   \n",
       "1          0.001420    0.3570    0.212  202.453 2005-02-13 08:20:00-02:00   \n",
       "2          0.000055    0.2170    0.396  115.946 2006-02-22 18:17:35-03:00   \n",
       "3          0.000427    0.1060    0.174   92.071 2006-02-22 18:22:55-03:00   \n",
       "4          0.000003    0.5920    0.306  154.070 2006-02-22 18:27:55-03:00   \n",
       "5          0.140000    0.0797    0.362  121.607 2006-02-22 18:34:20-03:00   \n",
       "6          0.642000    0.1160    0.199  144.514 2006-02-22 18:38:13-03:00   \n",
       "7          0.160000    0.1120    0.450  125.998 2006-02-22 18:41:52-03:00   \n",
       "8          0.000002    0.1180    0.083   74.983 2006-02-22 18:45:34-03:00   \n",
       "9               NaN       NaN      NaN      NaN 2006-02-22 18:49:58-03:00   \n",
       "\n",
       "     weekday  weekday_num  hour  month  year  \n",
       "0     Sunday            7     8      2  2005  \n",
       "1     Sunday            7     8      2  2005  \n",
       "2  Wednesday            3    18      2  2006  \n",
       "3  Wednesday            3    18      2  2006  \n",
       "4  Wednesday            3    18      2  2006  \n",
       "5  Wednesday            3    18      2  2006  \n",
       "6  Wednesday            3    18      2  2006  \n",
       "7  Wednesday            3    18      2  2006  \n",
       "8  Wednesday            3    18      2  2006  \n",
       "9  Wednesday            3    18      2  2006  \n",
       "\n",
       "[10 rows x 26 columns]"
      ]
     },
     "execution_count": 6,
     "metadata": {},
     "output_type": "execute_result"
    }
   ],
   "source": [
    "df.head(10)"
   ]
  },
  {
   "cell_type": "code",
   "execution_count": 7,
   "metadata": {},
   "outputs": [
    {
     "data": {
      "text/html": [
       "<div>\n",
       "<style scoped>\n",
       "    .dataframe tbody tr th:only-of-type {\n",
       "        vertical-align: middle;\n",
       "    }\n",
       "\n",
       "    .dataframe tbody tr th {\n",
       "        vertical-align: top;\n",
       "    }\n",
       "\n",
       "    .dataframe thead th {\n",
       "        text-align: right;\n",
       "    }\n",
       "</style>\n",
       "<table border=\"1\" class=\"dataframe\">\n",
       "  <thead>\n",
       "    <tr style=\"text-align: right;\">\n",
       "      <th></th>\n",
       "      <th>#scrobble</th>\n",
       "      <th>date</th>\n",
       "      <th>loved</th>\n",
       "      <th>danceability</th>\n",
       "      <th>energy</th>\n",
       "      <th>key</th>\n",
       "      <th>loudness</th>\n",
       "      <th>mode</th>\n",
       "      <th>speechiness</th>\n",
       "      <th>acousticness</th>\n",
       "      <th>instrumentalness</th>\n",
       "      <th>liveness</th>\n",
       "      <th>valence</th>\n",
       "      <th>tempo</th>\n",
       "      <th>weekday_num</th>\n",
       "      <th>hour</th>\n",
       "      <th>month</th>\n",
       "      <th>year</th>\n",
       "    </tr>\n",
       "  </thead>\n",
       "  <tbody>\n",
       "    <tr>\n",
       "      <th>count</th>\n",
       "      <td>89719.000000</td>\n",
       "      <td>8.971900e+04</td>\n",
       "      <td>89719.000000</td>\n",
       "      <td>82875.000000</td>\n",
       "      <td>82875.000000</td>\n",
       "      <td>82875.000000</td>\n",
       "      <td>82875.000000</td>\n",
       "      <td>82875.000000</td>\n",
       "      <td>82875.000000</td>\n",
       "      <td>82875.000000</td>\n",
       "      <td>82875.000000</td>\n",
       "      <td>82875.000000</td>\n",
       "      <td>82875.000000</td>\n",
       "      <td>82875.000000</td>\n",
       "      <td>89719.000000</td>\n",
       "      <td>89719.000000</td>\n",
       "      <td>89719.000000</td>\n",
       "      <td>89719.000000</td>\n",
       "    </tr>\n",
       "    <tr>\n",
       "      <th>mean</th>\n",
       "      <td>44860.000000</td>\n",
       "      <td>1.460408e+09</td>\n",
       "      <td>0.066731</td>\n",
       "      <td>0.508129</td>\n",
       "      <td>0.619456</td>\n",
       "      <td>5.243729</td>\n",
       "      <td>-9.089575</td>\n",
       "      <td>0.666184</td>\n",
       "      <td>0.055846</td>\n",
       "      <td>0.296786</td>\n",
       "      <td>0.181533</td>\n",
       "      <td>0.206066</td>\n",
       "      <td>0.497902</td>\n",
       "      <td>121.706244</td>\n",
       "      <td>3.523802</td>\n",
       "      <td>12.621463</td>\n",
       "      <td>6.252232</td>\n",
       "      <td>2015.800232</td>\n",
       "    </tr>\n",
       "    <tr>\n",
       "      <th>std</th>\n",
       "      <td>25899.788738</td>\n",
       "      <td>1.186983e+08</td>\n",
       "      <td>0.249556</td>\n",
       "      <td>0.165274</td>\n",
       "      <td>0.271234</td>\n",
       "      <td>3.535488</td>\n",
       "      <td>6.040058</td>\n",
       "      <td>0.471578</td>\n",
       "      <td>0.050814</td>\n",
       "      <td>0.345002</td>\n",
       "      <td>0.323130</td>\n",
       "      <td>0.172347</td>\n",
       "      <td>0.261507</td>\n",
       "      <td>28.723537</td>\n",
       "      <td>1.879139</td>\n",
       "      <td>5.121117</td>\n",
       "      <td>3.302935</td>\n",
       "      <td>3.774505</td>\n",
       "    </tr>\n",
       "    <tr>\n",
       "      <th>min</th>\n",
       "      <td>1.000000</td>\n",
       "      <td>1.108290e+09</td>\n",
       "      <td>0.000000</td>\n",
       "      <td>0.000000</td>\n",
       "      <td>0.000098</td>\n",
       "      <td>0.000000</td>\n",
       "      <td>-47.493000</td>\n",
       "      <td>0.000000</td>\n",
       "      <td>0.000000</td>\n",
       "      <td>0.000001</td>\n",
       "      <td>0.000000</td>\n",
       "      <td>0.009670</td>\n",
       "      <td>0.000000</td>\n",
       "      <td>0.000000</td>\n",
       "      <td>1.000000</td>\n",
       "      <td>0.000000</td>\n",
       "      <td>1.000000</td>\n",
       "      <td>2005.000000</td>\n",
       "    </tr>\n",
       "    <tr>\n",
       "      <th>25%</th>\n",
       "      <td>22430.500000</td>\n",
       "      <td>1.404415e+09</td>\n",
       "      <td>0.000000</td>\n",
       "      <td>0.391000</td>\n",
       "      <td>0.444000</td>\n",
       "      <td>2.000000</td>\n",
       "      <td>-10.699000</td>\n",
       "      <td>0.000000</td>\n",
       "      <td>0.033100</td>\n",
       "      <td>0.010150</td>\n",
       "      <td>0.000004</td>\n",
       "      <td>0.098400</td>\n",
       "      <td>0.284000</td>\n",
       "      <td>101.017000</td>\n",
       "      <td>2.000000</td>\n",
       "      <td>9.000000</td>\n",
       "      <td>3.000000</td>\n",
       "      <td>2014.000000</td>\n",
       "    </tr>\n",
       "    <tr>\n",
       "      <th>50%</th>\n",
       "      <td>44860.000000</td>\n",
       "      <td>1.492164e+09</td>\n",
       "      <td>0.000000</td>\n",
       "      <td>0.511000</td>\n",
       "      <td>0.684000</td>\n",
       "      <td>5.000000</td>\n",
       "      <td>-7.356000</td>\n",
       "      <td>1.000000</td>\n",
       "      <td>0.041100</td>\n",
       "      <td>0.116000</td>\n",
       "      <td>0.001270</td>\n",
       "      <td>0.130000</td>\n",
       "      <td>0.493000</td>\n",
       "      <td>121.908000</td>\n",
       "      <td>3.000000</td>\n",
       "      <td>12.000000</td>\n",
       "      <td>6.000000</td>\n",
       "      <td>2017.000000</td>\n",
       "    </tr>\n",
       "    <tr>\n",
       "      <th>75%</th>\n",
       "      <td>67289.500000</td>\n",
       "      <td>1.553609e+09</td>\n",
       "      <td>0.000000</td>\n",
       "      <td>0.622000</td>\n",
       "      <td>0.843000</td>\n",
       "      <td>9.000000</td>\n",
       "      <td>-5.126000</td>\n",
       "      <td>1.000000</td>\n",
       "      <td>0.057000</td>\n",
       "      <td>0.560000</td>\n",
       "      <td>0.160000</td>\n",
       "      <td>0.276000</td>\n",
       "      <td>0.711000</td>\n",
       "      <td>138.514000</td>\n",
       "      <td>5.000000</td>\n",
       "      <td>17.000000</td>\n",
       "      <td>9.000000</td>\n",
       "      <td>2019.000000</td>\n",
       "    </tr>\n",
       "    <tr>\n",
       "      <th>max</th>\n",
       "      <td>89719.000000</td>\n",
       "      <td>1.622108e+09</td>\n",
       "      <td>1.000000</td>\n",
       "      <td>0.979000</td>\n",
       "      <td>0.999000</td>\n",
       "      <td>11.000000</td>\n",
       "      <td>4.708000</td>\n",
       "      <td>1.000000</td>\n",
       "      <td>0.956000</td>\n",
       "      <td>0.996000</td>\n",
       "      <td>0.987000</td>\n",
       "      <td>0.997000</td>\n",
       "      <td>0.991000</td>\n",
       "      <td>238.895000</td>\n",
       "      <td>7.000000</td>\n",
       "      <td>23.000000</td>\n",
       "      <td>12.000000</td>\n",
       "      <td>2021.000000</td>\n",
       "    </tr>\n",
       "  </tbody>\n",
       "</table>\n",
       "</div>"
      ],
      "text/plain": [
       "          #scrobble          date         loved  danceability        energy  \\\n",
       "count  89719.000000  8.971900e+04  89719.000000  82875.000000  82875.000000   \n",
       "mean   44860.000000  1.460408e+09      0.066731      0.508129      0.619456   \n",
       "std    25899.788738  1.186983e+08      0.249556      0.165274      0.271234   \n",
       "min        1.000000  1.108290e+09      0.000000      0.000000      0.000098   \n",
       "25%    22430.500000  1.404415e+09      0.000000      0.391000      0.444000   \n",
       "50%    44860.000000  1.492164e+09      0.000000      0.511000      0.684000   \n",
       "75%    67289.500000  1.553609e+09      0.000000      0.622000      0.843000   \n",
       "max    89719.000000  1.622108e+09      1.000000      0.979000      0.999000   \n",
       "\n",
       "                key      loudness          mode   speechiness  acousticness  \\\n",
       "count  82875.000000  82875.000000  82875.000000  82875.000000  82875.000000   \n",
       "mean       5.243729     -9.089575      0.666184      0.055846      0.296786   \n",
       "std        3.535488      6.040058      0.471578      0.050814      0.345002   \n",
       "min        0.000000    -47.493000      0.000000      0.000000      0.000001   \n",
       "25%        2.000000    -10.699000      0.000000      0.033100      0.010150   \n",
       "50%        5.000000     -7.356000      1.000000      0.041100      0.116000   \n",
       "75%        9.000000     -5.126000      1.000000      0.057000      0.560000   \n",
       "max       11.000000      4.708000      1.000000      0.956000      0.996000   \n",
       "\n",
       "       instrumentalness      liveness       valence         tempo  \\\n",
       "count      82875.000000  82875.000000  82875.000000  82875.000000   \n",
       "mean           0.181533      0.206066      0.497902    121.706244   \n",
       "std            0.323130      0.172347      0.261507     28.723537   \n",
       "min            0.000000      0.009670      0.000000      0.000000   \n",
       "25%            0.000004      0.098400      0.284000    101.017000   \n",
       "50%            0.001270      0.130000      0.493000    121.908000   \n",
       "75%            0.160000      0.276000      0.711000    138.514000   \n",
       "max            0.987000      0.997000      0.991000    238.895000   \n",
       "\n",
       "        weekday_num          hour         month          year  \n",
       "count  89719.000000  89719.000000  89719.000000  89719.000000  \n",
       "mean       3.523802     12.621463      6.252232   2015.800232  \n",
       "std        1.879139      5.121117      3.302935      3.774505  \n",
       "min        1.000000      0.000000      1.000000   2005.000000  \n",
       "25%        2.000000      9.000000      3.000000   2014.000000  \n",
       "50%        3.000000     12.000000      6.000000   2017.000000  \n",
       "75%        5.000000     17.000000      9.000000   2019.000000  \n",
       "max        7.000000     23.000000     12.000000   2021.000000  "
      ]
     },
     "execution_count": 7,
     "metadata": {},
     "output_type": "execute_result"
    }
   ],
   "source": [
    "df.describe()"
   ]
  },
  {
   "cell_type": "code",
   "execution_count": 8,
   "metadata": {},
   "outputs": [
    {
     "name": "stdout",
     "output_type": "stream",
     "text": [
      "COLUMN           | COMPLETENESS\n",
      "-----------------------------------\n",
      "#scrobble        | 100.00% complete\n",
      "date             | 100.00% complete\n",
      "date_fmt         | 100.00% complete\n",
      "mbid             | 74.98% complete\n",
      "artist           | 100.00% complete\n",
      "track            | 100.00% complete\n",
      "album            | 97.35% complete\n",
      "loved            | 100.00% complete\n",
      "tags             | 100.00% complete\n",
      "danceability     | 92.37% complete\n",
      "energy           | 92.37% complete\n",
      "key              | 92.37% complete\n",
      "loudness         | 92.37% complete\n",
      "mode             | 92.37% complete\n",
      "speechiness      | 92.37% complete\n",
      "acousticness     | 92.37% complete\n",
      "instrumentalness | 92.37% complete\n",
      "liveness         | 92.37% complete\n",
      "valence          | 92.37% complete\n",
      "tempo            | 92.37% complete\n",
      "date_formatted   | 100.00% complete\n",
      "weekday          | 100.00% complete\n",
      "weekday_num      | 100.00% complete\n",
      "hour             | 100.00% complete\n",
      "month            | 100.00% complete\n",
      "year             | 100.00% complete\n"
     ]
    }
   ],
   "source": [
    "print('COLUMN           | COMPLETENESS\\n-----------------------------------')\n",
    "for col in df.columns:\n",
    "    total = len(df)\n",
    "    nulls = df[col].isnull().sum(axis = 0)\n",
    "    txt = '{col:<16} | {b:.2%} complete'.format(col=col, b = (1 - nulls/total))\n",
    "    print(txt)"
   ]
  },
  {
   "cell_type": "markdown",
   "metadata": {},
   "source": [
    "As we can see, most of our columns has a low percentage of `NaN` values. The largest one is MBID, but we won't use it at the moment.\n",
    "\n",
    "Since our dataset is good (for now, we'll examine further the tags that will become a sparse matrix), we are currently not gonna work on null values. Let's run basic statistics.\n",
    "\n",
    "## Top 10 everything!\n",
    "\n",
    "First, let's build simple charts with top 10 artists, albums, tracks and tags for the whole period."
   ]
  },
  {
   "cell_type": "code",
   "execution_count": 9,
   "metadata": {},
   "outputs": [
    {
     "name": "stderr",
     "output_type": "stream",
     "text": [
      "/usr/local/lib/python3.9/site-packages/seaborn/_decorators.py:36: FutureWarning: Pass the following variables as keyword args: x, y. From version 0.12, the only valid positional argument will be `data`, and passing other arguments without an explicit keyword will result in an error or misinterpretation.\n",
      "  warnings.warn(\n"
     ]
    },
    {
     "data": {
      "image/png": "[encoded data removed]",
      "text/plain": [
       "<Figure size 720x432 with 1 Axes>"
      ]
     },
     "metadata": {},
     "output_type": "display_data"
    }
   ],
   "source": [
    "top_artists = Counter(df['artist'])\n",
    "top_100_artists = top_artists.most_common(100)\n",
    "\n",
    "x_artists = [item[0] for item in top_100_artists]\n",
    "y_artists = [item[1] for item in top_100_artists]\n",
    "\n",
    "sns.set()\n",
    "plt.subplots(figsize=(10, 6))\n",
    "\n",
    "palette = sns.cubehelix_palette(15, start=-.8, rot=0.2, reverse=True)\n",
    "\n",
    "artists_plot = sns.barplot(y_artists[:10], x_artists[:10], palette=palette)\n",
    "artists_plot.axes.get_xaxis().set_visible(False)\n",
    "artists_plot.set_title('Top 10 Artists - All time', fontsize=20)\n",
    "for p in artists_plot.patches:\n",
    "    artists_plot.text(p.get_width() * 1.01, p.get_y() + p.get_height()/2.,'%d' % int(p.get_width()), \n",
    "            fontsize=12, ha='left', va='center')"
   ]
  },
  {
   "cell_type": "code",
   "execution_count": 10,
   "metadata": {},
   "outputs": [
    {
     "name": "stderr",
     "output_type": "stream",
     "text": [
      "/usr/local/lib/python3.9/site-packages/seaborn/_decorators.py:36: FutureWarning: Pass the following variables as keyword args: x, y. From version 0.12, the only valid positional argument will be `data`, and passing other arguments without an explicit keyword will result in an error or misinterpretation.\n",
      "  warnings.warn(\n"
     ]
    },
    {
     "data": {
      "image/png": "[encoded data removed]",
      "text/plain": [
       "<Figure size 864x432 with 1 Axes>"
      ]
     },
     "metadata": {},
     "output_type": "display_data"
    }
   ],
   "source": [
    "top_albums = Counter(df['album'])\n",
    "top_100_albums = top_albums.most_common(100)\n",
    "\n",
    "x_albums = [item[0] for item in top_100_albums]\n",
    "y_albums = [item[1] for item in top_100_albums]\n",
    "\n",
    "x_albums_with_artist = []\n",
    "for i in range(len(x_albums)):\n",
    "    try:\n",
    "        album = x_albums[i]\n",
    "        artist = df[df.album == album]['artist'].mode()[0]\n",
    "        album_artist = album + ' (' + artist + ')'\n",
    "        x_albums_with_artist.append(album_artist)\n",
    "    except: x_albums_with_artist.append(\"nan\")\n",
    "\n",
    "plt.subplots(figsize=(12, 6))\n",
    "albums_plot = sns.barplot(y_albums[1:11], x_albums_with_artist[1:11], palette=palette)\n",
    "albums_plot.axes.get_xaxis().set_visible(False)\n",
    "albums_plot.set_title('Top 10 Albums - All time', fontsize=20)\n",
    "for p in albums_plot.patches:\n",
    "    albums_plot.text(p.get_width() * 1.01, p.get_y() + p.get_height()/2.,'%d' % int(p.get_width()), \n",
    "            fontsize=12, ha='left', va='center')"
   ]
  },
  {
   "cell_type": "code",
   "execution_count": 11,
   "metadata": {},
   "outputs": [
    {
     "name": "stderr",
     "output_type": "stream",
     "text": [
      "/usr/local/lib/python3.9/site-packages/seaborn/_decorators.py:36: FutureWarning: Pass the following variables as keyword args: x, y. From version 0.12, the only valid positional argument will be `data`, and passing other arguments without an explicit keyword will result in an error or misinterpretation.\n",
      "  warnings.warn(\n"
     ]
    },
    {
     "data": {
      "image/png": "[encoded data removed]",
      "text/plain": [
       "<Figure size 720x432 with 1 Axes>"
      ]
     },
     "metadata": {},
     "output_type": "display_data"
    }
   ],
   "source": [
    "top_tracks = Counter(df['track'])\n",
    "top_100_tracks = top_tracks.most_common(100)\n",
    "\n",
    "x_tracks = [item[0] for item in top_100_tracks]\n",
    "y_tracks = [item[1] for item in top_100_tracks]\n",
    "\n",
    "\n",
    "x_tracks_with_artist = []\n",
    "for i in range(len(x_albums)):\n",
    "    try:\n",
    "        track = x_tracks[i]\n",
    "        artist = df[df.track == track]['artist'].mode()[0]\n",
    "        track_artist = track + ' (' + artist + ')'\n",
    "        x_tracks_with_artist.append(track_artist)\n",
    "    except: x_tracks_with_artist.append(\"nan\")\n",
    "        \n",
    "        \n",
    "plt.subplots(figsize=(10, 6))\n",
    "tracks_plot = sns.barplot(y_tracks[:10], x_tracks_with_artist[:10], palette=palette)\n",
    "tracks_plot.axes.get_xaxis().set_visible(False)\n",
    "tracks_plot.set_title('Top 10 Tracks - All time', fontsize=20)\n",
    "for p in tracks_plot.patches:\n",
    "    tracks_plot.text(p.get_width()*1.01, p.get_y() + p.get_height()/2.,'%d' % int(p.get_width()), \n",
    "            fontsize=12, ha='left', va='center')"
   ]
  },
  {
   "cell_type": "code",
   "execution_count": 12,
   "metadata": {},
   "outputs": [
    {
     "name": "stderr",
     "output_type": "stream",
     "text": [
      "/usr/local/lib/python3.9/site-packages/seaborn/_decorators.py:36: FutureWarning: Pass the following variables as keyword args: x, y. From version 0.12, the only valid positional argument will be `data`, and passing other arguments without an explicit keyword will result in an error or misinterpretation.\n",
      "  warnings.warn(\n"
     ]
    },
    {
     "data": {
      "image/png": "[encoded data removed]",
      "text/plain": [
       "<Figure size 864x432 with 1 Axes>"
      ]
     },
     "metadata": {},
     "output_type": "display_data"
    }
   ],
   "source": [
    "import ast\n",
    "\n",
    "tags_df = df['tags']\n",
    "count_tags = {}\n",
    "\n",
    "for i in range(len(df)):\n",
    "    str1 = ast.literal_eval(tags_df.iloc[i])\n",
    "    for j in range(len(str1)):\n",
    "        if str1[j] not in count_tags:\n",
    "            count_tags[str1[j]] = 1\n",
    "        elif str1[j] in count_tags:\n",
    "            count_tags[str1[j]] += 1\n",
    "            \n",
    "top_tags = Counter(count_tags)\n",
    "top_100_tags = top_tags.most_common(100)\n",
    "\n",
    "x_tags = [item[0] for item in top_100_tags]\n",
    "y_tags = [item[1] for item in top_100_tags]\n",
    "\n",
    "plt.subplots(figsize=(12, 6))\n",
    "tags_plot = sns.barplot(y_tags[:10], x_tags[:10], palette = palette)\n",
    "tags_plot.axes.get_xaxis().set_visible(False)\n",
    "tags_plot.set_title('Top 10 Tags - All time', fontsize=20)\n",
    "for p in tags_plot.patches:\n",
    "    tags_plot.text(p.get_width()*1.01, p.get_y() + p.get_height()/2.,'%d' % int(p.get_width()), \n",
    "            fontsize=12, ha='left', va='center')"
   ]
  },
  {
   "cell_type": "markdown",
   "metadata": {},
   "source": [
    "### Last week and Last month comparisons\n",
    "\n",
    "This is another very basic comparison, but anyway let's do it."
   ]
  },
  {
   "cell_type": "code",
   "execution_count": 13,
   "metadata": {},
   "outputs": [],
   "source": [
    "today = df.iloc[-1]['date_formatted']\n",
    "\n",
    "week = datetime.timedelta(days=7)\n",
    "last_week = today - week\n",
    "two_weeks_ago = last_week - week"
   ]
  },
  {
   "cell_type": "code",
   "execution_count": 14,
   "metadata": {},
   "outputs": [],
   "source": [
    "last_week_scrobbles = df[df['date_formatted'] > last_week]\n",
    "\n",
    "two_weeks_ago_scrobbles = df[df['date_formatted'] < last_week]\n",
    "two_weeks_ago_scrobbles = two_weeks_ago_scrobbles[two_weeks_ago_scrobbles['date_formatted'] > two_weeks_ago]\n",
    "\n",
    "weekly_scrobbles = {two_weeks_ago.strftime('%m/%d'): len(two_weeks_ago_scrobbles),\n",
    "                    last_week.strftime('%m/%d'): len(last_week_scrobbles)}"
   ]
  },
  {
   "cell_type": "code",
   "execution_count": 15,
   "metadata": {},
   "outputs": [],
   "source": [
    "last_week_artists = pd.unique(last_week_scrobbles['artist'])\n",
    "two_weeks_ago_artists = pd.unique(two_weeks_ago_scrobbles['artist'])\n",
    "\n",
    "weekly_artists = {two_weeks_ago.strftime('%m/%d'): len(two_weeks_ago_artists),\n",
    "                  last_week.strftime('%m/%d'): len(last_week_artists)}"
   ]
  },
  {
   "cell_type": "code",
   "execution_count": 16,
   "metadata": {},
   "outputs": [],
   "source": [
    "last_week_albums = pd.unique(last_week_scrobbles['album'])\n",
    "two_weeks_ago_albums = pd.unique(two_weeks_ago_scrobbles['album'])\n",
    "\n",
    "weekly_albums = {two_weeks_ago.strftime('%m/%d'): len(two_weeks_ago_albums),\n",
    "                 last_week.strftime('%m/%d'): len(last_week_albums)}"
   ]
  },
  {
   "cell_type": "code",
   "execution_count": 17,
   "metadata": {},
   "outputs": [
    {
     "name": "stderr",
     "output_type": "stream",
     "text": [
      "/usr/local/lib/python3.9/site-packages/seaborn/_decorators.py:36: FutureWarning: Pass the following variables as keyword args: x, y. From version 0.12, the only valid positional argument will be `data`, and passing other arguments without an explicit keyword will result in an error or misinterpretation.\n",
      "  warnings.warn(\n",
      "/usr/local/lib/python3.9/site-packages/seaborn/_decorators.py:36: FutureWarning: Pass the following variables as keyword args: x, y. From version 0.12, the only valid positional argument will be `data`, and passing other arguments without an explicit keyword will result in an error or misinterpretation.\n",
      "  warnings.warn(\n",
      "/usr/local/lib/python3.9/site-packages/seaborn/_decorators.py:36: FutureWarning: Pass the following variables as keyword args: x, y. From version 0.12, the only valid positional argument will be `data`, and passing other arguments without an explicit keyword will result in an error or misinterpretation.\n",
      "  warnings.warn(\n"
     ]
    },
    {
     "data": {
      "text/plain": [
       "Text(0.5, 1.0, '# of albums - WoW')"
      ]
     },
     "execution_count": 17,
     "metadata": {},
     "output_type": "execute_result"
    },
    {
     "data": {
      "image/png": "[encoded data removed]",
      "text/plain": [
       "<Figure size 1296x360 with 3 Axes>"
      ]
     },
     "metadata": {},
     "output_type": "display_data"
    }
   ],
   "source": [
    "plt.subplots(figsize=(18, 5))\n",
    "\n",
    "plt.subplot(1, 3, 1)\n",
    "lists = weekly_scrobbles.items()\n",
    "x, y = zip(*lists)\n",
    "\n",
    "artists_dist = sns.barplot(list(x), list(y), color='#2D5652')\n",
    "artists_dist.axes.get_xaxis().set_visible(True)\n",
    "artists_dist.set_title('# of scrobbles - WoW', fontsize=15)\n",
    "\n",
    "plt.subplot(1, 3, 2)\n",
    "lists = weekly_artists.items()\n",
    "x, y = zip(*lists)\n",
    "\n",
    "artists_dist = sns.barplot(list(x), list(y), color='#2D5652')\n",
    "artists_dist.axes.get_xaxis().set_visible(True)\n",
    "artists_dist.set_title('# of artists - WoW', fontsize=15)\n",
    "\n",
    "plt.subplot(1, 3, 3)\n",
    "lists = weekly_albums.items()\n",
    "x, y = zip(*lists)\n",
    "\n",
    "artists_dist = sns.barplot(list(x), list(y), color='#2D5652')\n",
    "artists_dist.axes.get_xaxis().set_visible(True)\n",
    "artists_dist.set_title('# of albums - WoW', fontsize=15)"
   ]
  },
  {
   "cell_type": "code",
   "execution_count": 18,
   "metadata": {},
   "outputs": [],
   "source": [
    "month = datetime.timedelta(days=30)\n",
    "last_month = today - month\n",
    "two_months_ago = last_month - month"
   ]
  },
  {
   "cell_type": "code",
   "execution_count": 19,
   "metadata": {},
   "outputs": [],
   "source": [
    "last_month_scrobbles = df[df['date_formatted'] > last_month]\n",
    "\n",
    "two_months_ago_scrobbles = df[df['date_formatted'] < last_month]\n",
    "two_months_ago_scrobbles = two_months_ago_scrobbles[two_months_ago_scrobbles['date_formatted'] > two_months_ago]\n",
    "\n",
    "monthly_scrobbles = {two_months_ago.strftime('%m/%d'): len(two_months_ago_scrobbles),\n",
    "                     last_month.strftime('%m/%d'): len(last_month_scrobbles)}"
   ]
  },
  {
   "cell_type": "code",
   "execution_count": 20,
   "metadata": {},
   "outputs": [],
   "source": [
    "last_month_artists = pd.unique(last_month_scrobbles['artist'])\n",
    "two_months_ago_artists = pd.unique(two_months_ago_scrobbles['artist'])\n",
    "\n",
    "monthly_artists = {two_months_ago.strftime('%m/%d'): len(two_months_ago_artists),\n",
    "                   last_month.strftime('%m/%d'): len(last_month_artists)}"
   ]
  },
  {
   "cell_type": "code",
   "execution_count": 21,
   "metadata": {},
   "outputs": [],
   "source": [
    "last_month_albums = pd.unique(last_month_scrobbles['album'])\n",
    "two_months_ago_albums = pd.unique(two_months_ago_scrobbles['album'])\n",
    "\n",
    "monthly_albums = {two_months_ago.strftime('%m/%d'): len(two_months_ago_albums),\n",
    "                  last_month.strftime('%m/%d'): len(last_month_albums)}"
   ]
  },
  {
   "cell_type": "code",
   "execution_count": 22,
   "metadata": {},
   "outputs": [
    {
     "name": "stderr",
     "output_type": "stream",
     "text": [
      "/usr/local/lib/python3.9/site-packages/seaborn/_decorators.py:36: FutureWarning: Pass the following variables as keyword args: x, y. From version 0.12, the only valid positional argument will be `data`, and passing other arguments without an explicit keyword will result in an error or misinterpretation.\n",
      "  warnings.warn(\n",
      "/usr/local/lib/python3.9/site-packages/seaborn/_decorators.py:36: FutureWarning: Pass the following variables as keyword args: x, y. From version 0.12, the only valid positional argument will be `data`, and passing other arguments without an explicit keyword will result in an error or misinterpretation.\n",
      "  warnings.warn(\n",
      "/usr/local/lib/python3.9/site-packages/seaborn/_decorators.py:36: FutureWarning: Pass the following variables as keyword args: x, y. From version 0.12, the only valid positional argument will be `data`, and passing other arguments without an explicit keyword will result in an error or misinterpretation.\n",
      "  warnings.warn(\n"
     ]
    },
    {
     "data": {
      "text/plain": [
       "Text(0.5, 1.0, '# of albums - MoM')"
      ]
     },
     "execution_count": 22,
     "metadata": {},
     "output_type": "execute_result"
    },
    {
     "data": {
      "image/png": "[encoded data removed]",
      "text/plain": [
       "<Figure size 1296x360 with 3 Axes>"
      ]
     },
     "metadata": {},
     "output_type": "display_data"
    }
   ],
   "source": [
    "plt.subplots(figsize=(18, 5))\n",
    "\n",
    "plt.subplot(1, 3, 1)\n",
    "lists = monthly_scrobbles.items()\n",
    "x, y = zip(*lists)\n",
    "\n",
    "artists_dist = sns.barplot(list(x), list(y), color='#2D5652')\n",
    "artists_dist.axes.get_xaxis().set_visible(True)\n",
    "artists_dist.set_title('# of scrobbles - MoM', fontsize=15)\n",
    "\n",
    "plt.subplot(1, 3, 2)\n",
    "lists = monthly_artists.items()\n",
    "x, y = zip(*lists)\n",
    "\n",
    "artists_dist = sns.barplot(list(x), list(y), color='#2D5652')\n",
    "artists_dist.axes.get_xaxis().set_visible(True)\n",
    "artists_dist.set_title('# of artists - MoM', fontsize=15)\n",
    "\n",
    "plt.subplot(1, 3, 3)\n",
    "lists = monthly_albums.items()\n",
    "x, y = zip(*lists)\n",
    "\n",
    "artists_dist = sns.barplot(list(x), list(y), color='#2D5652')\n",
    "artists_dist.axes.get_xaxis().set_visible(True)\n",
    "artists_dist.set_title('# of albums - MoM', fontsize=15)"
   ]
  },
  {
   "cell_type": "markdown",
   "metadata": {},
   "source": [
    "## How concentrated is my taste?\n",
    "\n",
    "Let's check the distribution of artists, albums and tracks, to see if I listen too much of one thing in regard os others.\n",
    "\n",
    "We'll consider just the top 100 of each item, to keep the charts clean."
   ]
  },
  {
   "cell_type": "code",
   "execution_count": 23,
   "metadata": {},
   "outputs": [
    {
     "name": "stderr",
     "output_type": "stream",
     "text": [
      "/usr/local/lib/python3.9/site-packages/seaborn/_decorators.py:36: FutureWarning: Pass the following variables as keyword args: x, y. From version 0.12, the only valid positional argument will be `data`, and passing other arguments without an explicit keyword will result in an error or misinterpretation.\n",
      "  warnings.warn(\n",
      "/usr/local/lib/python3.9/site-packages/seaborn/_decorators.py:36: FutureWarning: Pass the following variables as keyword args: x, y. From version 0.12, the only valid positional argument will be `data`, and passing other arguments without an explicit keyword will result in an error or misinterpretation.\n",
      "  warnings.warn(\n",
      "/usr/local/lib/python3.9/site-packages/seaborn/_decorators.py:36: FutureWarning: Pass the following variables as keyword args: x, y. From version 0.12, the only valid positional argument will be `data`, and passing other arguments without an explicit keyword will result in an error or misinterpretation.\n",
      "  warnings.warn(\n",
      "/usr/local/lib/python3.9/site-packages/seaborn/_decorators.py:36: FutureWarning: Pass the following variables as keyword args: x, y. From version 0.12, the only valid positional argument will be `data`, and passing other arguments without an explicit keyword will result in an error or misinterpretation.\n",
      "  warnings.warn(\n"
     ]
    },
    {
     "data": {
      "image/png": "[encoded data removed]",
      "text/plain": [
       "<Figure size 1296x720 with 4 Axes>"
      ]
     },
     "metadata": {},
     "output_type": "display_data"
    }
   ],
   "source": [
    "palette_conc = sns.cubehelix_palette(200, start=-.8, rot=0.2, reverse=True)\n",
    "plt.subplots(figsize=(18, 10))\n",
    "\n",
    "plt.subplot(2, 2, 1)\n",
    "artists_dist = sns.barplot(x_artists, y_artists, palette = palette_conc)\n",
    "plt.setp(artists_dist.patches, linewidth=0.05)\n",
    "artists_dist.set_ylabel('Number of scrobbles per artist')\n",
    "artists_dist.axes.get_xaxis().set_visible(False)\n",
    "artists_dist.set_title('Artists distribution', fontsize=15)\n",
    "\n",
    "plt.subplot(2, 2, 2)\n",
    "albums_dist = sns.barplot(x_albums_with_artist, y_albums, palette = palette_conc)\n",
    "plt.setp(albums_dist.patches, linewidth=0.05)\n",
    "albums_dist.set_ylabel('Number of scrobbles per album')\n",
    "albums_dist.axes.get_xaxis().set_visible(False)\n",
    "albums_dist.set_title('Albums distribution', fontsize=15)\n",
    "\n",
    "plt.subplot(2, 2, 3)\n",
    "tracks_dist = sns.barplot(x_tracks_with_artist, y_tracks, palette = palette_conc)\n",
    "plt.setp(tracks_dist.patches, linewidth=0.05)\n",
    "tracks_dist.set_ylabel('Number of scrobbles per track')\n",
    "tracks_dist.axes.get_xaxis().set_visible(False)\n",
    "tracks_dist.set_title('Tracks distributions', fontsize=15)\n",
    "\n",
    "plt.subplot(2, 2, 4)\n",
    "tags_dist = sns.barplot(x_tags, y_tags, palette = palette_conc)\n",
    "plt.setp(tags_dist.patches, linewidth=0.05)\n",
    "tags_dist.set_ylabel('Number of scrobbles per tag')\n",
    "tags_dist.axes.get_xaxis().set_visible(False)\n",
    "tags_dist.set_title('Tags distributions', fontsize=15)\n",
    "\n",
    "plt.show()"
   ]
  },
  {
   "cell_type": "markdown",
   "metadata": {},
   "source": [
    "So, I have a high concentration of artists and tags (the curves are more dramatic), however the distribution on albums and tracks are smoother. The albums and tracks are more evenly distributed however they are albums from the same artists. (To be studied)"
   ]
  },
  {
   "cell_type": "markdown",
   "metadata": {},
   "source": [
    "_Soundtrack for this first part of the study: [The Kinks](https://open.spotify.com/user/ohhrosie/playlist/4bW4B1ZAJL2QeVxjmz3K4K?si=gzblx6t9R8OMJL2wgttdjw)_\n",
    "\n",
    "![Kinks](https://i.imgur.com/KcJd5eQb.png)\n",
    "\n",
    "\n",
    "\n",
    "\n",
    "\n",
    "## How I listen to music over time"
   ]
  },
  {
   "cell_type": "code",
   "execution_count": 24,
   "metadata": {},
   "outputs": [
    {
     "name": "stderr",
     "output_type": "stream",
     "text": [
      "/usr/local/lib/python3.9/site-packages/seaborn/_decorators.py:36: FutureWarning: Pass the following variables as keyword args: x, y. From version 0.12, the only valid positional argument will be `data`, and passing other arguments without an explicit keyword will result in an error or misinterpretation.\n",
      "  warnings.warn(\n"
     ]
    },
    {
     "data": {
      "image/png": "[encoded data removed]",
      "text/plain": [
       "<Figure size 864x432 with 1 Axes>"
      ]
     },
     "metadata": {},
     "output_type": "display_data"
    }
   ],
   "source": [
    "years = sorted(list(df['year'].unique()))\n",
    "tracks_per_year = [len(df[df['year'] == i]) for i in years]\n",
    "\n",
    "palette_years = sns.color_palette('hls', len(years))\n",
    "\n",
    "sns.set()\n",
    "plt.subplots(figsize=(12, 6))\n",
    "yearly_tracks = sns.barplot(years, tracks_per_year, palette=palette_years)\n",
    "yearly_tracks.set_title('Scrobbles per year', fontsize=20)\n",
    "for p in yearly_tracks.patches:\n",
    "    yearly_tracks.text(p.get_x() + p.get_width()/2., p.get_height(), '%d' % int(p.get_height()), \n",
    "            fontsize=12, ha='center', va='bottom')"
   ]
  },
  {
   "cell_type": "code",
   "execution_count": 25,
   "metadata": {},
   "outputs": [
    {
     "data": {
      "image/png": "[encoded data removed]",
      "text/plain": [
       "<Figure size 1152x432 with 2 Axes>"
      ]
     },
     "metadata": {},
     "output_type": "display_data"
    }
   ],
   "source": [
    "matrix_hour_weekday = df.pivot_table(index='weekday_num', \n",
    "               columns='hour',\n",
    "               aggfunc='size',\n",
    "               fill_value=0)\n",
    "\n",
    "f, ax = plt.subplots(figsize=(16, 6))\n",
    "heatmat_hour_weekday = sns.heatmap(matrix_hour_weekday, square=True,\n",
    "                                   yticklabels=['Mon', 'Tue', 'Wed', 'Thu', 'Fri', 'Sat', 'Sun'])\n",
    "\n",
    "title = 'How user ' + str(user) + ' listens to music according to day of the week and hour of the day'\n",
    "heatmat_hour_weekday.set_title(title, fontsize=18)\n",
    "plt.yticks(rotation=0)\n",
    "plt.xlabel('Hour of the day')\n",
    "plt.ylabel('Day of the week')\n",
    "plt.show()"
   ]
  },
  {
   "cell_type": "markdown",
   "metadata": {},
   "source": [
    "As per the heatmap above, I'm a person that listens to music mostly during working days and hours. As I work at an office and have regular working hours, we can see that I still listen to music when at home during the night.\n",
    "\n",
    "_Soundtrack for this first part of the study: [The Blossoms](https://open.spotify.com/album/0yO5Mwu2oDdGbeRFpAaBGa?si=yxsQbO8eStmMsBK7eDVvMA)_\n",
    "\n",
    "![Blossoms](https://i.imgur.com/KHt35a8b.jpg)"
   ]
  },
  {
   "cell_type": "markdown",
   "metadata": {},
   "source": [
    "### Obsessions over time\n",
    "\n",
    "Now I want to know the tracks that were on repeat for every year.\n",
    "\n",
    "But the first question is: am I a obsession-track-on-repeat? There are people that clearly listens to the same track over and over when they are in love with it, but am I like this? We have to analyze it.\n",
    "\n",
    "How many times do I have to listen to the same track to say it's an obsession?\n",
    "\n",
    "We'll run some studies."
   ]
  },
  {
   "cell_type": "code",
   "execution_count": 26,
   "metadata": {},
   "outputs": [],
   "source": [
    "scrobbles_per_year = {}\n",
    "\n",
    "for i in years:\n",
    "    scrobbles_per_year['tracks_' + str(i)] = df.loc[df['year'] == i]"
   ]
  },
  {
   "cell_type": "code",
   "execution_count": 27,
   "metadata": {},
   "outputs": [],
   "source": [
    "dict_top_tracks = {}\n",
    "for key, value in scrobbles_per_year.items():\n",
    "    count = 0\n",
    "    old_track = ''\n",
    "    dict_tracks_per_year = {}\n",
    "    for i in range(len(value['track'])):\n",
    "        new_track = value.iloc[i]['track']\n",
    "        if old_track == new_track:\n",
    "            count += 1\n",
    "            if count > 2: dict_tracks_per_year[(value.iloc[i]['artist'], value.iloc[i]['track'])] = count\n",
    "        else:\n",
    "            count = 0\n",
    "        old_track = new_track\n",
    "    sorted_dict = sorted(dict_tracks_per_year.items(), key=lambda x: x[1], reverse=True)\n",
    "    dict_top_tracks[key[-4:]] = sorted_dict[:5]"
   ]
  },
  {
   "cell_type": "code",
   "execution_count": 28,
   "metadata": {},
   "outputs": [
    {
     "name": "stdout",
     "output_type": "stream",
     "text": [
      "In 2007 the most listened tracks on repeat were:\n",
      "\"The Mating Game\" by Bitter:Sweet 3 times\n",
      "\n",
      "In 2009 the most listened tracks on repeat were:\n",
      "\"Me Plus One\" by Kasabian 10 times\n",
      "\"Club Foot\" by Kasabian 10 times\n",
      "\"Underdog\" by Kasabian 9 times\n",
      "\"Vlad the Impaler\" by Kasabian 8 times\n",
      "\"Breakout\" by Foo Fighters 8 times\n",
      "\n",
      "In 2010 the most listened tracks on repeat were:\n",
      "\"Go Do\" by Jónsi 8 times\n",
      "\"Animal Arithmetic\" by Jónsi 8 times\n",
      "\"Boy Lilikoi\" by Jónsi 8 times\n",
      "\"Sinking Friendships\" by Jónsi 8 times\n",
      "\"Dia Perfeito\" by Cachorro Grande 6 times\n",
      "\n",
      "In 2011 the most listened tracks on repeat were:\n",
      "\"Beatles and Stones\" by Beady Eye 12 times\n",
      "\"Millionaire\" by Beady Eye 12 times\n",
      "\"The Roller\" by Beady Eye 12 times\n",
      "\"My Fantasy\" by Miles Kane 11 times\n",
      "\"If I Had a gun\" by Noel Gallagher's High Flying Birds 11 times\n",
      "\n",
      "In 2012 the most listened tracks on repeat were:\n",
      "\"Teddy Picker\" by Arctic Monkeys 8 times\n",
      "\"Under My Thumb\" by The Rolling Stones 3 times\n",
      "\"Undercover Martyn\" by Two Door Cinema Club 3 times\n",
      "\"Fire\" by Kasabian 3 times\n",
      "\"Wraith Pinned to the Mist (and other games)\" by of Montreal 3 times\n",
      "\n",
      "In 2013 the most listened tracks on repeat were:\n",
      "\"Do I Wanna Know?\" by Arctic Monkeys 6 times\n",
      "\"Soon Come Tomorrow\" by Beady Eye 3 times\n",
      "\"Iz Rite\" by Beady Eye 3 times\n",
      "\"Don't Brother Me\" by Beady Eye 3 times\n",
      "\"London's Burning\" by The Clash 3 times\n",
      "\n",
      "In 2014 the most listened tracks on repeat were:\n",
      "\"Como Era Bom\" by Cachorro Grande 19 times\n",
      "\"Busman's Holiday\" by Allah-Las 11 times\n",
      "\"Lord Don't Slow Me Down\" by Oasis 7 times\n",
      "\"Some Might Say\" by Oasis 7 times\n",
      "\"Sad Song\" by Oasis 7 times\n",
      "\n",
      "In 2015 the most listened tracks on repeat were:\n",
      "\"Elephant (Canyons Wooly Mammoth Extension)\" by Tame Impala 26 times\n",
      "\"Mind Mischief\" by Tame Impala 14 times\n",
      "\"Apocalypse Dreams (Live)\" by Tame Impala 12 times\n",
      "\"You Know We Can't Go Back\" by Noel Gallagher's High Flying Birds 10 times\n",
      "\"Let It Happen\" by Tame Impala 10 times\n",
      "\n",
      "In 2016 the most listened tracks on repeat were:\n",
      "\"Sorry\" by Justin Bieber 16 times\n",
      "\"The Next Day\" by David Bowie 3 times\n",
      "\n",
      "In 2017 the most listened tracks on repeat were:\n",
      "\"Wall Of Glass\" by Liam Gallagher 31 times\n",
      "\"For What It's Worth\" by Liam Gallagher 10 times\n",
      "\"You're In Love With a Psycho\" by Kasabian 6 times\n",
      "\"Chinatown\" by Liam Gallagher 3 times\n",
      "\n",
      "In 2019 the most listened tracks on repeat were:\n",
      "\"How Long Will This Last?\" by Blossoms 52 times\n",
      "\"The Keeper\" by Blossoms 26 times\n",
      "\"Your Girlfriend\" by Blossoms 15 times\n",
      "\"You Oughta Know - 2015 Remaster\" by Alanis Morissette 7 times\n",
      "\"Nobody Else\" by THE S.L.P. 7 times\n",
      "\n",
      "In 2020 the most listened tracks on repeat were:\n",
      "\"Try It Again\" by The Hives 31 times\n",
      "\"Sprawl II (Mountains Beyond Mountains)\" by Arcade Fire 13 times\n",
      "\"Cali\" by Ride 5 times\n",
      "\"Future Love\" by Ride 3 times\n",
      "\"Babies\" by Pulp 3 times\n",
      "\n",
      "In 2021 the most listened tracks on repeat were:\n",
      "\"Laisse Tomber Les Filles\" by France Gall 5 times\n",
      "\"Copenhague\" by Vetusta Morla 4 times\n",
      "\n"
     ]
    }
   ],
   "source": [
    "for key, value in dict_top_tracks.items():\n",
    "    if len(value) > 0:\n",
    "        print('In', key, 'the most listened tracks on repeat were:')\n",
    "        for item in value:\n",
    "            print('\"' + item[0][1] + '\" by', item[0][0], item[1], 'times')\n",
    "        print('')"
   ]
  },
  {
   "cell_type": "markdown",
   "metadata": {},
   "source": [
    "_Soundtrack for this first part of the study: [Modest Mouse](https://open.spotify.com/album/5SbcupirEParczvqqyUPXL?si=DLNp2lX6Q82fDntFRM_fsQ)_\n",
    "\n",
    "![The Postal Service](https://imgur.com/ImSOx5pt.png)"
   ]
  },
  {
   "cell_type": "markdown",
   "metadata": {},
   "source": [
    "### Let's analyze a little bit the tags"
   ]
  },
  {
   "cell_type": "markdown",
   "metadata": {},
   "source": [
    "Now I want to understand what genres I'm listening to. This is given by TAGS on last.fm system. Any user can tag a song/artist/album as they want, so they are not **official** genres but as defined by the users. The top tags of an artist is the one that users tag the most, so although it's not 100% official, it should be precise enough for popular artists.\n",
    "\n",
    "We will build a vector of tags.\n",
    "\n",
    "First we will analyze some tags for some artists.\n",
    "\n",
    "Then we build a list with the unique tags. Then, for each scrobble, it will analyze if the tag is present. If it is, it will flag with 1 (on the position that tag is on the unique tags list) and, if not, with a 0."
   ]
  },
  {
   "cell_type": "code",
   "execution_count": 29,
   "metadata": {},
   "outputs": [
    {
     "data": {
      "text/plain": [
       "\"['britpop', 'rock', 'british', 'alternative', 'indie', 'alternative rock', 'indie rock', '90s', 'pop', 'uk', 'manchester', 'britrock', 'classic rock', 'brit pop', 'pop rock', 'male vocalists', 'brit rock', 'english']\""
      ]
     },
     "execution_count": 29,
     "metadata": {},
     "output_type": "execute_result"
    }
   ],
   "source": [
    "df.iloc[0]['tags']"
   ]
  },
  {
   "cell_type": "markdown",
   "metadata": {},
   "source": [
    "For each tag cell, we can see there's a list that is interpreted as a string. We have to turn these strings into actual lists.\n",
    "\n",
    "Then, we'll build a mega list with all the unique tags for all artists (so later we build a matrix)"
   ]
  },
  {
   "cell_type": "code",
   "execution_count": 30,
   "metadata": {},
   "outputs": [],
   "source": [
    "import ast\n",
    "\n",
    "# I analyzed the tags beforehand and checked that, usually, tags with over 3 letters or less are pure noise and\n",
    "# doesn't bring value to our analysis, with the exception of the below that we'll include\n",
    "list_short = ['uk', 'mpb', 'pop', '20s', '30s','40s', '50s', '60s', '70s', '80s', '90s', '00s', '10s', \n",
    "              'emo', 'mod', 'rap', 'rnb', 'usa', 'dub', 'ska', 'r&b', 'idm', 'edm']\n",
    "all_tags_row = []\n",
    "\n",
    "for i in range(len(df)):\n",
    "    tag_list = ast.literal_eval(df['tags'][i])\n",
    "    all_tags_row.append(tag_list)"
   ]
  },
  {
   "cell_type": "code",
   "execution_count": 31,
   "metadata": {},
   "outputs": [],
   "source": [
    "from sklearn.preprocessing import MultiLabelBinarizer\n",
    "\n",
    "test = pd.Series(all_tags_row)\n",
    "\n",
    "mlb = MultiLabelBinarizer()\n",
    "\n",
    "res = pd.DataFrame(mlb.fit_transform(test),\n",
    "                   columns=mlb.classes_,\n",
    "                   index=test.index)"
   ]
  },
  {
   "cell_type": "code",
   "execution_count": 32,
   "metadata": {},
   "outputs": [
    {
     "name": "stdout",
     "output_type": "stream",
     "text": [
      "<class 'pandas.core.frame.DataFrame'>\n",
      "RangeIndex: 89719 entries, 0 to 89718\n",
      "Columns: 8448 entries, #worship to zürich\n",
      "dtypes: int64(8448)\n",
      "memory usage: 5.6 GB\n"
     ]
    }
   ],
   "source": [
    "res.info()"
   ]
  },
  {
   "cell_type": "code",
   "execution_count": 33,
   "metadata": {},
   "outputs": [
    {
     "data": {
      "text/plain": [
       "array([[ 3.37656944e+00,  1.86327681e-01, -1.78615917e+00, ...,\n",
       "         2.57533906e-06, -8.03268105e-05,  7.30834319e-05],\n",
       "       [ 3.37656944e+00,  1.86327681e-01, -1.78615917e+00, ...,\n",
       "         2.57533906e-06, -8.03268105e-05,  7.30834319e-05],\n",
       "       [ 1.42692757e+00, -4.81964280e-01,  1.36007831e+00, ...,\n",
       "        -9.67253454e-03, -1.17566712e-02,  1.90028633e-02],\n",
       "       ...,\n",
       "       [ 1.12440437e+00,  2.07668248e-01,  1.30285439e+00, ...,\n",
       "        -7.67873868e-03,  8.34233166e-04,  3.93154525e-04],\n",
       "       [ 5.11807282e-01,  1.25804182e-01,  1.19436733e+00, ...,\n",
       "        -1.75788520e-04, -3.60456091e-03, -7.48586615e-04],\n",
       "       [ 5.11613212e-02,  2.54027966e-01,  1.32531926e-01, ...,\n",
       "         5.61866769e-04,  1.22126749e-05,  7.22450287e-04]])"
      ]
     },
     "execution_count": 33,
     "metadata": {},
     "output_type": "execute_result"
    }
   ],
   "source": [
    "from sklearn.preprocessing import StandardScaler\n",
    "from sklearn.decomposition import TruncatedSVD\n",
    "from scipy.sparse import csr_matrix\n",
    "from sklearn import datasets\n",
    "import numpy as np\n",
    "\n",
    "cols = int(round(len(res.iloc[0])/10))\n",
    "\n",
    "tsvd = TruncatedSVD(n_components=cols)\n",
    "X_sparse_tsvd = tsvd.fit(res).transform(res)\n",
    "X_sparse_tsvd"
   ]
  },
  {
   "cell_type": "markdown",
   "metadata": {},
   "source": [
    "_Soundtrack for this first part of the study: [Band of Horses](https://open.spotify.com/album/08fkw9uDP2KET6cPIl74Xo?si=YedcmWXjSuKg4ddN5saUfQ)_\n",
    "\n",
    "![Band of Horses](https://i.imgur.com/r9aLICc.jpg?1)"
   ]
  },
  {
   "cell_type": "markdown",
   "metadata": {},
   "source": [
    "Now we'll use K Means (using sklearn) to cluster similar artists according to the tags they have. We will define 10 clusters and see how they are grouped."
   ]
  },
  {
   "cell_type": "code",
   "execution_count": 34,
   "metadata": {},
   "outputs": [
    {
     "name": "stdout",
     "output_type": "stream",
     "text": [
      "Init 1/3 with method: k-means++\n",
      "Inertia for init 1/3: 2933.201442\n",
      "Init 2/3 with method: k-means++\n",
      "Inertia for init 2/3: 2910.169330\n",
      "Init 3/3 with method: k-means++\n",
      "Inertia for init 3/3: 3024.833740\n",
      "Minibatch iteration 1/89800: mean batch inertia: 10.216498, ewa inertia: 10.216498 \n",
      "Minibatch iteration 2/89800: mean batch inertia: 9.956965, ewa inertia: 10.215919 \n",
      "Minibatch iteration 3/89800: mean batch inertia: 10.231731, ewa inertia: 10.215954 \n",
      "Minibatch iteration 4/89800: mean batch inertia: 10.051654, ewa inertia: 10.215588 \n",
      "Minibatch iteration 5/89800: mean batch inertia: 9.100885, ewa inertia: 10.213103 \n",
      "Minibatch iteration 6/89800: mean batch inertia: 9.806515, ewa inertia: 10.212197 \n",
      "Minibatch iteration 7/89800: mean batch inertia: 9.794728, ewa inertia: 10.211266 \n",
      "Minibatch iteration 8/89800: mean batch inertia: 10.024306, ewa inertia: 10.210850 \n",
      "Minibatch iteration 9/89800: mean batch inertia: 9.665242, ewa inertia: 10.209633 \n",
      "Minibatch iteration 10/89800: mean batch inertia: 9.815268, ewa inertia: 10.208754 \n",
      "Minibatch iteration 11/89800: mean batch inertia: 11.079562, ewa inertia: 10.210695 \n",
      "Minibatch iteration 12/89800: mean batch inertia: 8.079524, ewa inertia: 10.205945 \n",
      "Minibatch iteration 13/89800: mean batch inertia: 10.142519, ewa inertia: 10.205803 \n",
      "Minibatch iteration 14/89800: mean batch inertia: 9.841011, ewa inertia: 10.204990 \n",
      "Minibatch iteration 15/89800: mean batch inertia: 11.070889, ewa inertia: 10.206920 \n",
      "Minibatch iteration 16/89800: mean batch inertia: 10.616658, ewa inertia: 10.207834 \n",
      "Minibatch iteration 17/89800: mean batch inertia: 8.647048, ewa inertia: 10.204354 \n",
      "Minibatch iteration 18/89800: mean batch inertia: 10.159364, ewa inertia: 10.204254 \n",
      "Minibatch iteration 19/89800: mean batch inertia: 10.446816, ewa inertia: 10.204795 \n",
      "Minibatch iteration 20/89800: mean batch inertia: 10.048097, ewa inertia: 10.204446 \n",
      "Minibatch iteration 21/89800: mean batch inertia: 9.417081, ewa inertia: 10.202690 \n",
      "Minibatch iteration 22/89800: mean batch inertia: 9.156119, ewa inertia: 10.200357 \n",
      "Minibatch iteration 23/89800: mean batch inertia: 9.926379, ewa inertia: 10.199747 \n",
      "Minibatch iteration 24/89800: mean batch inertia: 10.265847, ewa inertia: 10.199894 \n",
      "Minibatch iteration 25/89800: mean batch inertia: 10.071303, ewa inertia: 10.199607 \n",
      "Minibatch iteration 26/89800: mean batch inertia: 9.769933, ewa inertia: 10.198650 \n",
      "Minibatch iteration 27/89800: mean batch inertia: 9.548196, ewa inertia: 10.197200 \n",
      "Minibatch iteration 28/89800: mean batch inertia: 9.429299, ewa inertia: 10.195488 \n",
      "Minibatch iteration 29/89800: mean batch inertia: 9.660915, ewa inertia: 10.194296 \n",
      "Minibatch iteration 30/89800: mean batch inertia: 10.353930, ewa inertia: 10.194652 \n",
      "Minibatch iteration 31/89800: mean batch inertia: 9.938314, ewa inertia: 10.194081 \n",
      "Minibatch iteration 32/89800: mean batch inertia: 10.388990, ewa inertia: 10.194515 \n",
      "Minibatch iteration 33/89800: mean batch inertia: 10.496902, ewa inertia: 10.195189 \n",
      "Minibatch iteration 34/89800: mean batch inertia: 8.918988, ewa inertia: 10.192344 \n",
      "Minibatch iteration 35/89800: mean batch inertia: 10.164320, ewa inertia: 10.192282 \n",
      "Minibatch iteration 36/89800: mean batch inertia: 9.889696, ewa inertia: 10.191607 \n",
      "Minibatch iteration 37/89800: mean batch inertia: 10.268748, ewa inertia: 10.191779 \n",
      "Minibatch iteration 38/89800: mean batch inertia: 10.230600, ewa inertia: 10.191866 \n",
      "Minibatch iteration 39/89800: mean batch inertia: 9.826122, ewa inertia: 10.191051 \n",
      "Minibatch iteration 40/89800: mean batch inertia: 10.749089, ewa inertia: 10.192295 \n",
      "Minibatch iteration 41/89800: mean batch inertia: 10.748295, ewa inertia: 10.193534 \n",
      "Minibatch iteration 42/89800: mean batch inertia: 10.015189, ewa inertia: 10.193136 \n",
      "Minibatch iteration 43/89800: mean batch inertia: 10.219321, ewa inertia: 10.193195 \n",
      "Minibatch iteration 44/89800: mean batch inertia: 9.626781, ewa inertia: 10.191932 \n",
      "Minibatch iteration 45/89800: mean batch inertia: 10.062065, ewa inertia: 10.191643 \n",
      "Minibatch iteration 46/89800: mean batch inertia: 10.619359, ewa inertia: 10.192596 \n",
      "Minibatch iteration 47/89800: mean batch inertia: 11.043805, ewa inertia: 10.194494 \n",
      "Minibatch iteration 48/89800: mean batch inertia: 9.725221, ewa inertia: 10.193447 \n",
      "Minibatch iteration 49/89800: mean batch inertia: 10.004934, ewa inertia: 10.193027 \n",
      "Converged (lack of improvement in inertia) at iteration 49/89800\n",
      "Computing label assignment and total inertia\n",
      "CPU times: user 11.8 s, sys: 9.64 s, total: 21.4 s\n",
      "Wall time: 24.3 s\n"
     ]
    }
   ],
   "source": [
    "from sklearn.cluster import KMeans, MiniBatchKMeans\n",
    "\n",
    "num_clusters = 8\n",
    "\n",
    "km = MiniBatchKMeans(n_clusters=num_clusters, init='k-means++', max_iter=100, batch_size=100, verbose=1, \n",
    "                     compute_labels=True, random_state=None, tol=0.0, max_no_improvement=10, n_init=3, \n",
    "                     reassignment_ratio=0.1)\n",
    "\n",
    "%time km.fit(res)\n",
    "\n",
    "clusters = km.labels_.tolist()"
   ]
  },
  {
   "cell_type": "markdown",
   "metadata": {},
   "source": [
    "Here we create a dictionary of artist and its cluster assignment."
   ]
  },
  {
   "cell_type": "code",
   "execution_count": 35,
   "metadata": {},
   "outputs": [
    {
     "data": {
      "text/plain": [
       "6    35564\n",
       "3    16416\n",
       "0    11849\n",
       "5     9864\n",
       "4     5641\n",
       "7     4062\n",
       "2     3954\n",
       "1     2369\n",
       "Name: cluster, dtype: int64"
      ]
     },
     "execution_count": 35,
     "metadata": {},
     "output_type": "execute_result"
    }
   ],
   "source": [
    "artists = { 'artist': list(df['artist']), 'cluster': clusters}\n",
    "frame = pd.DataFrame(artists, index = [clusters] , columns = ['artist', 'cluster'])\n",
    "frame['cluster'].value_counts() # number of scrobbles per cluster (clusters from 0 to 4)"
   ]
  },
  {
   "cell_type": "markdown",
   "metadata": {},
   "source": [
    "Here is some indexing and sorting on each cluster to identify which are the top n (I chose n=6) words that are nearest to the cluster centroid. This gives a good sense of the main topic of the cluster."
   ]
  },
  {
   "cell_type": "code",
   "execution_count": 36,
   "metadata": {},
   "outputs": [
    {
     "name": "stdout",
     "output_type": "stream",
     "text": [
      "Top tags per cluster:\n",
      "\n"
     ]
    }
   ],
   "source": [
    "print('Top tags per cluster:\\n')\n",
    "#sort cluster centers by proximity to centroid\n",
    "order_centroids = km.cluster_centers_.argsort()[:, ::-1] \n",
    "dict_cluster_tags = {}\n",
    "dict_cluster_artists = {}"
   ]
  },
  {
   "cell_type": "code",
   "execution_count": 37,
   "metadata": {},
   "outputs": [
    {
     "name": "stdout",
     "output_type": "stream",
     "text": [
      "\n",
      "Cluster 0 words: ['britpop', 'rock', 'british', 'alternative', 'indie', 'alternative rock', 'indie rock', '90s', 'pop', 'uk', 'manchester', 'britrock', 'classic rock', 'brit pop', 'pop rock', 'male vocalists', 'brit rock', 'english'], ['soul', 'female vocalists', 'jazz', 'blues', 'rhythm and blues', 'rnb', 'oldies', 'gospel', '60s', 'motown', 'american', 'funk', 'r&b', '70s', 'pop', 'female vocalist', 'rock', 'female', '80s'], ['indie', 'indie rock', 'british', 'alternative', 'rock', 'alternative rock', 'britpop', 'electronic', 'uk', 'electronica', 'psychedelic', '00s', 'brit rock', 'indie pop', 'experimental', 'indietronica', 'electronic rock', 'psychedelic rock'], ['britpop', 'rock', 'british', 'alternative', 'indie', 'alternative rock', 'indie rock', '90s', 'pop', 'uk', 'manchester', 'britrock', 'classic rock', 'brit pop', 'pop rock', 'male vocalists', 'brit rock', 'english'], ['jazz', 'female vocalists', 'vocal jazz', 'jazz vocal', 'blues', 'american', 'singer-songwriter', 'female vocalist', 'jazz vocals', 'jazz divas', 'vocal', 'oldies', '50s', 'female jazz vocalist', 'female', 'avant-garde jazz', 'female jazz vocalists', 'jazz vocalist', 'max roach'], [],\n",
      "\n",
      "Cluster 0 artists: Kasabian, The Strokes, Modest Mouse, Caesars, The Killers, Pixies, The Clash, Kaiser Chiefs, The Bravery, Primal Scream, Snow Patrol, Clor, Arctic Monkeys, Hot Hot Heat, The Futureheads, Franz Ferdinand, Clinic, The Rapture, Gang of Four, Radiohead, LCD Soundsystem, The Walkmen, The Notwist, Yeah Yeah Yeahs, Interpol, Bloc Party, Gorillaz, Doves, Babyshambles, We Are Scientists, New Model Army, Arcade Fire, The Cure, Maxïmo Park, Belle and Sebastian, The Libertines, Lovebugs, Editors, The Rakes, The Pipettes, Scissor Sisters, Super Furry Animals, Enon, The Jam, The Coral, The Kooks, Thom Yorke, Jet, Sonic Youth, Clap Your Hands Say Yeah, Razorlight, \n",
      "\n",
      "=======================================================================================\n",
      "\n",
      "Cluster 1 words: ['indie', 'indie rock', 'british', 'alternative', 'rock', 'alternative rock', 'britpop', 'electronic', 'uk', 'electronica', 'psychedelic', '00s', 'brit rock', 'indie pop', 'experimental', 'indietronica', 'electronic rock', 'psychedelic rock'], ['britpop', 'rock', 'british', 'alternative', 'indie', 'alternative rock', 'indie rock', '90s', 'pop', 'uk', 'manchester', 'britrock', 'classic rock', 'brit pop', 'pop rock', 'male vocalists', 'brit rock', 'english'], ['britpop', 'rock', 'british', 'alternative', 'indie', 'alternative rock', 'indie rock', '90s', 'pop', 'uk', 'manchester', 'britrock', 'classic rock', 'brit pop', 'pop rock', 'male vocalists', 'brit rock', 'english'], ['mpb', 'rock', 'brazilian', 'brasil', 'pop', 'pop rock', 'brazil', 'brazilian rock', 'alternative', 'rock nacional', 'rock brasileiro', 'pop rock nacional', 'male vocalists', 'brazilian music', 'rock brasil', 'indie', 'singer-songwriter', 'acoustic'], ['britpop', 'rock', 'british', 'alternative', 'indie', 'alternative rock', 'indie rock', '90s', 'pop', 'uk', 'manchester', 'britrock', 'classic rock', 'brit pop', 'pop rock', 'male vocalists', 'brit rock', 'english'], ['soul', 'female vocalists', 'jazz', 'blues', 'rhythm and blues', 'rnb', 'oldies', 'gospel', '60s', 'motown', 'american', 'funk', 'r&b', '70s', 'pop', 'female vocalist', 'rock', 'female', '80s'],\n",
      "\n",
      "Cluster 1 artists: Talking Heads, Peter Gabriel, David Bowie, Iggy Pop, Brian Eno, Lou Reed, Bryan Ferry, Sparks, David Sylvian, Elvis Costello, Roxy Music, Elvis Costello & The Attractions, David Byrne, Freddie Mercury, Steve Harley, The Alan Parsons Project, Kate Bush, The Cars, \n",
      "\n",
      "=======================================================================================\n",
      "\n",
      "Cluster 2 words: ['pop', 'rock', 'female vocalists', 'swedish', 'alternative', 'indie', 'indie pop', 'alternative rock', '90s', 'pop rock', 'indie rock', 'sweden', 'scandinavian', 'female vocalist', 'female', 'pop-rock', 'chillout', 'electronic'], ['pop', 'female vocalists', 'rock', 'female', 'american', 'dance', 'teen pop', 'pop rock', 'folk', 'female vocalist', 'alternative', 'soundtrack', 'adult contemporary', 'singer-songwriter', '90s', '00s', 'love', 'rnb'], ['jazz', 'female vocalists', 'blues', 'jazz vocal', 'vocal jazz', 'oldies', 'vocal', 'soul', 'smooth jazz', 'easy listening', 'female voices', 'lounge', 'female vocal', 'mellow', 'smooth', 'jazzy', 'love', 'beautiful', 'american'], [], ['mpb', 'rock', 'brazilian', 'brasil', 'pop', 'pop rock', 'brazil', 'brazilian rock', 'alternative', 'rock nacional', 'rock brasileiro', 'pop rock nacional', 'male vocalists', 'brazilian music', 'rock brasil', 'indie', 'singer-songwriter', 'acoustic'], ['american idol', 'female vocalists', 'pop', 'soul', 'idol', 'american', 'r&b', 'rnb', 'jazz', '00s', 'check out', 'american idol 5', 'vocal', 'female', 'hip hop', 'pop rock', 'favorites', 'urban', 'funk'],\n",
      "\n",
      "Cluster 2 artists: Ludwig van Beethoven, Hans Zimmer, Klaus Badelt, Georg Friedrich Händel, Edvard Grieg, Gabriel Fauré, Erik Satie, Johann Sebastian Bach, Johann Pachelbel, Sergei Prokofiev, Michel Legrand, Vladimir Cosma, Antonio Vivaldi, Frédéric Chopin, Franz Schubert, Robert Schumann, Béla Bartók, Glenn Gould, Georg Philipp Telemann, Tomaso Giovanni Albinoni, Modest Petrovich Mussorgsky, Maurice Ravel, Dmitri Shostakovich, Camille Saint-Saëns, Claude Debussy, Richard Wagner, François Couperin, Gustav Mahler, Sir Edward Elgar, Johannes Brahms, Wolfgang Amadeus Mozart, Franz Joseph Haydn, Franz Liszt, Henry Purcell, Sergei Rachmaninoff, Arcangelo Corelli, Dietrich Buxtehude, Ennio Morricone, Mikhail Pletnev, Murray Perahia, Ludovico Einaudi, Francis Poulenc, Joep Beving, Philip Glass, Christoph Willibald Gluck, Heitor Villa-Lobos, Alberto Ginastera, Carlos Guastavino, Max Richter, Dario Marianelli, Giuseppe Verdi, \n",
      "\n",
      "=======================================================================================\n",
      "\n",
      "Cluster 3 words: ['britpop', 'rock', 'british', 'alternative', 'indie', 'alternative rock', 'indie rock', '90s', 'pop', 'uk', 'manchester', 'britrock', 'classic rock', 'brit pop', 'pop rock', 'male vocalists', 'brit rock', 'english'], ['indie', 'indie rock', 'british', 'alternative', 'rock', 'alternative rock', 'britpop', 'electronic', 'uk', 'electronica', 'psychedelic', '00s', 'brit rock', 'indie pop', 'experimental', 'indietronica', 'electronic rock', 'psychedelic rock'], ['soul', 'female vocalists', 'jazz', 'blues', 'rhythm and blues', 'rnb', 'oldies', 'gospel', '60s', 'motown', 'american', 'funk', 'r&b', '70s', 'pop', 'female vocalist', 'rock', 'female', '80s'], [], ['jazz', 'female vocalists', 'vocal jazz', 'jazz vocal', 'blues', 'american', 'singer-songwriter', 'female vocalist', 'jazz vocals', 'jazz divas', 'vocal', 'oldies', '50s', 'female jazz vocalist', 'female', 'avant-garde jazz', 'female jazz vocalists', 'jazz vocalist', 'max roach'], ['britpop', 'rock', 'british', 'alternative', 'indie', 'alternative rock', 'indie rock', '90s', 'pop', 'uk', 'manchester', 'britrock', 'classic rock', 'brit pop', 'pop rock', 'male vocalists', 'brit rock', 'english'],\n",
      "\n",
      "Cluster 3 artists: Oasis, Stereophonics, U2, The Verve, The Thrills, Blur, Keane, Travis, Ocean Colour Scene, Coldplay, Robbie Williams, James, Supergrass, Kent, XTC, Feeder, David Gray, Placebo, Morrissey, Colours Run, Richard Ashcroft, Comet Gain, Ash, Athlete, Starsailor, The Charlatans, The Smiths, Pulp, Andreas Johnson, The Feeling, Duran Duran, Happy Mondays, Suede, The Stone Roses, Inspiral Carpets, The Police, The Pretenders, R.E.M., Noel Gallagher, Toploader, The La's, Beady Eye, Paul Weller, Noel Gallagher's High Flying Birds, Alex Turner, Teenage Fanclub, Jake Bugg, The Seahorses, Bastille, Dan Croll, Richard Hawley, \n",
      "\n",
      "=======================================================================================\n",
      "\n",
      "Cluster 4 words: ['soul', 'female vocalists', 'jazz', 'blues', 'rhythm and blues', 'rnb', 'oldies', 'gospel', '60s', 'motown', 'american', 'funk', 'r&b', '70s', 'pop', 'female vocalist', 'rock', 'female', '80s'], ['jazz', 'female vocalists', 'vocal jazz', 'jazz vocal', 'blues', 'american', 'singer-songwriter', 'female vocalist', 'jazz vocals', 'jazz divas', 'vocal', 'oldies', '50s', 'female jazz vocalist', 'female', 'avant-garde jazz', 'female jazz vocalists', 'jazz vocalist', 'max roach'], ['britpop', 'rock', 'british', 'alternative', 'indie', 'alternative rock', 'indie rock', '90s', 'pop', 'uk', 'manchester', 'britrock', 'classic rock', 'brit pop', 'pop rock', 'male vocalists', 'brit rock', 'english'], ['indie', 'indie rock', 'british', 'alternative', 'rock', 'alternative rock', 'britpop', 'electronic', 'uk', 'electronica', 'psychedelic', '00s', 'brit rock', 'indie pop', 'experimental', 'indietronica', 'electronic rock', 'psychedelic rock'], ['indie', 'rock', 'indie rock', 'alternative', 'alternative rock', 'pop', 'american', 'britpop', 'new wave', 'indie pop', 'punk', 'pop rock', 'synth rock', '00s', 'electronic', 'post-punk', 'male vocalists', 'post-punk revival'], ['electronic', 'indie', 'experimental', 'female vocalists', 'electronica', 'toytronica', 'ambient', 'indie pop', 'british', 'pop', 'indietronica', 'chillout', 'alternative', 'folktronica', 'downtempo', 'greys anatomy', 'female vocalist', 'toytronic', 'trip-hop'],\n",
      "\n",
      "Cluster 4 artists: Sigur Rós, 27, The Flaming Lips, Architecture in Helsinki, Pavement, Built to Spill, The Unicorns, Blonde Redhead, The Velvet Underground, Neutral Milk Hotel, My Bloody Valentine, Stephen Malkmus, Animal Collective, Grandaddy, of Montreal, Yo La Tengo, Caribou, My Morning Jacket, The Olivia Tremor Control, TV on the Radio, Islands, Wolfmother, Mew, Stereolab, Grizzly Bear, MGMT, The Soundtrack of Our Lives, The Radio Dept., Slowdive, Moscow Olympics, Tame Impala, Supercordas, The xx, Mac DeMarco, Beach House, Temples, Toy, Pond, The Raveonettes, Warpaint, Mogwai, Mazzy Star, The Dandy Warhols, Jacco Gardner, Tops, Bear in Heaven, Wild Nothing, Trailer Trash Tracys, The See See, Viet Cong, Real Estate, \n",
      "\n",
      "=======================================================================================\n",
      "\n",
      "Cluster 5 words: ['indie', 'indie rock', 'british', 'alternative', 'rock', 'alternative rock', 'britpop', 'electronic', 'uk', 'electronica', 'psychedelic', '00s', 'brit rock', 'indie pop', 'experimental', 'indietronica', 'electronic rock', 'psychedelic rock'], ['mpb', 'rock', 'brazilian', 'brasil', 'pop', 'pop rock', 'brazil', 'brazilian rock', 'alternative', 'rock nacional', 'rock brasileiro', 'pop rock nacional', 'male vocalists', 'brazilian music', 'rock brasil', 'indie', 'singer-songwriter', 'acoustic'], [], ['britpop', 'rock', 'british', 'alternative', 'indie', 'alternative rock', 'indie rock', '90s', 'pop', 'uk', 'manchester', 'britrock', 'classic rock', 'brit pop', 'pop rock', 'male vocalists', 'brit rock', 'english'], ['brazilian', 'mpb', 'alternative rock', 'rock', 'indie', 'brasil', 'alternative', 'brazil', 'indie rock', 'brazilian rock', 'rock brasileiro', 'samba', 'bossa nova', 'techno', 'male vocalists', 'rock nacional', 'rio de janeiro', 'detroit techno'], ['britpop', 'rock', 'british', 'alternative', 'indie', 'alternative rock', 'indie rock', '90s', 'pop', 'uk', 'manchester', 'britrock', 'classic rock', 'brit pop', 'pop rock', 'male vocalists', 'brit rock', 'english'],\n",
      "\n"
     ]
    },
    {
     "name": "stdout",
     "output_type": "stream",
     "text": [
      "Cluster 5 artists: Stealers Wheel, Supertramp, The Rolling Stones, The Doors, George Baker Selection, Pink Floyd, The Beach Boys, The Beatles, Queen, The Kinks, Elton John, The Jimi Hendrix Experience, Cat Stevens, Electric Light Orchestra, John Lennon, Small Faces, Bee Gees, The Who, Dire Straits, Led Zeppelin, The Zombies, The Yardbirds, Jethro Tull, Dusty Springfield, Elvis Presley, Paul McCartney, George Harrison, The Quarrymen, Ringo Starr, Cream, Paul McCartney & Wings, Paul & Linda McCartney, Wings, The Animals, Yes, Roger Daltrey, John Mayall & The Bluesbreakers, Ten Years After, The Spencer Davis Group, Fleetwood Mac, The Guess Who, Tom Jones, Mouse and the Traps, The Castaways, The Five Americans, The Woolies, Paul Revere & The Raiders, The High Numbers, The Action, Manfred Mann, Them, \n",
      "\n",
      "=======================================================================================\n",
      "\n",
      "Cluster 6 words: ['indie', 'indie rock', 'british', 'alternative', 'rock', 'alternative rock', 'britpop', 'electronic', 'uk', 'electronica', 'psychedelic', '00s', 'brit rock', 'indie pop', 'experimental', 'indietronica', 'electronic rock', 'psychedelic rock'], ['soul', 'female vocalists', 'jazz', 'blues', 'rhythm and blues', 'rnb', 'oldies', 'gospel', '60s', 'motown', 'american', 'funk', 'r&b', '70s', 'pop', 'female vocalist', 'rock', 'female', '80s'], ['britpop', 'rock', 'british', 'alternative', 'indie', 'alternative rock', 'indie rock', '90s', 'pop', 'uk', 'manchester', 'britrock', 'classic rock', 'brit pop', 'pop rock', 'male vocalists', 'brit rock', 'english'], ['britpop', 'rock', 'british', 'alternative', 'indie', 'alternative rock', 'indie rock', '90s', 'pop', 'uk', 'manchester', 'britrock', 'classic rock', 'brit pop', 'pop rock', 'male vocalists', 'brit rock', 'english'], ['indie', 'indie rock', 'alternative', 'rock', 'emo', 'indie pop', 'alternative rock', 'american', 'pop', 'mellow', 'acoustic', 'favorites', 'chill', 'singer-songwriter', 'punk', 'ben gibbard', 'love', 'death cab'], ['jazz', 'female vocalists', 'vocal jazz', 'jazz vocal', 'blues', 'american', 'singer-songwriter', 'female vocalist', 'jazz vocals', 'jazz divas', 'vocal', 'oldies', '50s', 'female jazz vocalist', 'female', 'avant-garde jazz', 'female jazz vocalists', 'jazz vocalist', 'max roach'],\n",
      "\n",
      "Cluster 6 artists: Anja Garbarek, Basement Jaxx, Goldfrapp, Stereo Total, The Postal Service, Oasis - Noels House Party - MTV Unplugged, Luxúria, DJ Patife, Quiet Riot, Fiona Apple, Björk, Foo Fighters, The Corrs, The Cardigans, The Jon Spencer Blues Explosion, Madonna, Daft Punk, Barão Vermelho, Natasha Thomas, Dream Theater, Yann Tiersen, No Doubt, Cat Power, Los Hermanos, The Little Willies, Death Cab for Cutie, FORD, Rstart, Eskimo, Jane's Addiction, Red Hot Chili Peppers, INXS, Dallas Company, Dead Kennedys, The Smiths / Morrissey, Incubus, César Menotti & Fabiano, Fugazi, Frank Zappa, Fiat Idea, Gal Costa, nicola conte feat. rosalia de souza, Le Chevre, Hilary Duff, Joan Jett, Elliott Smith, Autumn People, Rilo Kiley, Pennywise, The Smashing Pumpkins, Violins and Old Books, \n",
      "\n",
      "=======================================================================================\n",
      "\n",
      "Cluster 7 words: ['classic rock', 'rock', 'british', '60s', 'pop', 'psychedelic', 'oldies', 'psychedelic rock', 'beatles', 'british invasion', 'britpop', 'rock and roll', 'alternative', 'pop rock', 'classic', 'indie', '70s', 'uk', 'rock n roll'], ['britpop', 'rock', 'british', 'alternative', 'indie', 'alternative rock', 'indie rock', '90s', 'pop', 'uk', 'manchester', 'britrock', 'classic rock', 'brit pop', 'pop rock', 'male vocalists', 'brit rock', 'english'], ['britpop', 'rock', 'british', 'alternative', 'indie', 'alternative rock', 'indie rock', '90s', 'pop', 'uk', 'manchester', 'britrock', 'classic rock', 'brit pop', 'pop rock', 'male vocalists', 'brit rock', 'english'], ['electronic', 'trip-hop', 'female vocalists', 'electronica', 'dance', 'alternative', 'british', 'pop', 'indie', 'chillout', 'electropop', 'electro', 'downtempo', 'synthpop', 'electroclash', 'ambient', 'trip hop', 'female vocalist'], ['jazz', 'female vocalists', 'swing', 'jazz vocal', 'vocal jazz', 'american', 'oldies', 'jazz vocals', 'blues', 'anita oday', 'vocal', 'female jazz vocalists', '40s', '50s', 'female voices', 'jazz divas', 'female', '60s', 'big band', 'jazz vocalists'], ['classic rock', 'rock', 'british', '60s', 'pop', 'psychedelic', 'oldies', 'psychedelic rock', 'beatles', 'british invasion', 'britpop', 'rock and roll', 'alternative', 'pop rock', 'classic', 'indie', '70s', 'uk', 'rock n roll'],\n",
      "\n",
      "Cluster 7 artists: The Pussycat Dolls, Paris Bennett, Marvin Gaye, Dionne Warwick, Etta James, Gnarls Barkley, Michael Jackson, Lauryn Hill, The Contours, Kim Weston, Marvin Gaye & Tammi Terrell, Wilson Pickett, Martha Reeves & The Vandellas, The Marvelettes, The Crystals, Stevie Wonder, Earth, Wind & Fire, Chic, Aretha Franklin, James Brown, The Blues Brothers, Bo Diddley, Muddy Waters, Screamin' Jay Hawkins, India.Arie, Albert King, T-Bone Walker, Neil Sedaka, Macy Gray, Amy Winehouse, Louis Jordan, Ray Charles, Al Green, Bill Withers, Angie Stone, Amel Larrieux, Estelle, Res, Rihanna, Destiny's Child, Mariah Carey, Otis Redding, Mayer Hawthorne, Betty Everett, John Legend, Elvis Costello and The Roots, The Miracles, Mary Wells, The Temptations, The Supremes, Gladys Knight & The Pips, \n",
      "\n",
      "=======================================================================================\n",
      "\n",
      "\n",
      "\n"
     ]
    }
   ],
   "source": [
    "for i in range(num_clusters):\n",
    "    list_titles = []\n",
    "    print('\\nCluster %d words:' % i, end='')\n",
    "    \n",
    "    for ind in order_centroids[i, :6]:\n",
    "        print(' %s' % all_tags_row[ind], end=',')\n",
    "        try: dict_cluster_tags[i].append(all_tags_row[ind])\n",
    "        except: dict_cluster_tags[i] = [all_tags_row[ind]]\n",
    "    \n",
    "    print('\\n\\nCluster %d artists: ' % i, end='')\n",
    "    for title in frame.loc[i]['artist'].values.tolist():\n",
    "        if title not in list_titles and len(list_titles) <= 50:\n",
    "            list_titles.append(title)\n",
    "            try: dict_cluster_artists[i].append(title)\n",
    "            except: dict_cluster_artists[i] = [title]\n",
    "    for i in range(0,len(list_titles)):\n",
    "        print(list_titles[i], end=', ') \n",
    "    print('\\n\\n=======================================================================================') \n",
    "    \n",
    "print('\\n\\n')"
   ]
  },
  {
   "cell_type": "markdown",
   "metadata": {},
   "source": [
    "_Soundtrack for this first part of the study: [The Postal Service](https://open.spotify.com/album/4ssF0ppdJnMTtL2hg1CLKX?si=dUOpusnlRCOEoyNZ4oAhnA)_\n",
    "\n",
    "![The Postal Service](https://imgur.com/f5hmnPat.png)"
   ]
  },
  {
   "cell_type": "code",
   "execution_count": null,
   "metadata": {},
   "outputs": [],
   "source": [
    "df_out = res.T.dot(res)\n",
    "\n",
    "np.fill_diagonal(df_out, 0)\n",
    "\n",
    "df_out"
   ]
  },
  {
   "cell_type": "code",
   "execution_count": null,
   "metadata": {},
   "outputs": [],
   "source": [
    "from sklearn.cluster import SpectralClustering\n",
    "\n",
    "num_clusters = 8\n",
    "\n",
    "km = SpectralClustering(n_clusters=num_clusters, affinity='nearest_neighbors',\n",
    "                           assign_labels='kmeans', eigen_solver='arpack')\n",
    "\n",
    "%time km.fit_predict(df_out)\n",
    "\n",
    "clusters = km.labels_.tolist()\n",
    "clusters"
   ]
  },
  {
   "cell_type": "code",
   "execution_count": null,
   "metadata": {},
   "outputs": [],
   "source": [
    "import json\n",
    "import pylast\n",
    "import requests\n",
    "from collections import defaultdict, Counter\n",
    "\n",
    "def get_credentials():\n",
    "    with open('secrets.json', 'r') as file:\n",
    "        jsonfile = json.load(file)\n",
    "        API_KEY = jsonfile['API']['API_KEY']\n",
    "        API_SECRET = jsonfile['API']['API_SECRET']\n",
    "        username = jsonfile['API']['username']\n",
    "        password = jsonfile['API']['password_hash']\n",
    "        password_hash = pylast.md5(password)\n",
    "    return API_KEY, API_SECRET, username, password, password_hash\n",
    "\n",
    "API_KEY, API_SECRET, username, password, password_hash = get_credentials()\n",
    "network = pylast.LastFMNetwork(api_key=API_KEY, api_secret=API_SECRET, username=username, password_hash=password_hash)"
   ]
  },
  {
   "cell_type": "code",
   "execution_count": null,
   "metadata": {},
   "outputs": [],
   "source": [
    "# for i in range(len(dict_cluster_tags)):\n",
    "#     tags_list = dict_cluster_tags[i]\n",
    "#     dict_artists_tags = defaultdict(list)\n",
    "#     megalist = []\n",
    "#     for tag in tags_list:\n",
    "#         url = 'http://ws.audioscrobbler.com/2.0/?method=tag.gettopartists&tag=' + tag + '&api_key=' + API_KEY + '&format=json&limit=30'\n",
    "#         r = requests.get(url)\n",
    "#         r_json = json.loads(r.content)\n",
    "#         for a, artist in enumerate(r_json['topartists']['artist']):\n",
    "#             if artist not in dict_cluster_artists[i]:\n",
    "#                 megalist.append(artist['name'])\n",
    "#                 dict_artists_tags[tag].append(artist['name'])\n",
    "#     c = Counter(megalist).most_common(10)\n",
    "#     print(dict_cluster_tags[i], '\\n', c, '\\n\\n')"
   ]
  },
  {
   "cell_type": "markdown",
   "metadata": {},
   "source": [
    "### Simple recomendation\n",
    "\n",
    "Now that we have our clustered artists, we can try to start recommending new ones (based on the clusters). Let's start using the method \"Get Similar Artists\" from Last.fm itself.\n",
    "\n",
    "For a given cluster, we'll get the first 30 artists similar to each artist and rank by how many times the recommended artist appears. On this process, we make sure that the recommended artist is already not on the cluster"
   ]
  },
  {
   "cell_type": "code",
   "execution_count": null,
   "metadata": {},
   "outputs": [],
   "source": [
    "all_artists = list(top_artists.keys())"
   ]
  },
  {
   "cell_type": "code",
   "execution_count": null,
   "metadata": {},
   "outputs": [],
   "source": [
    "recommendation_list = []\n",
    "for i in range(len(dict_cluster_tags)):\n",
    "    tags_list = dict_cluster_artists[i]\n",
    "    dict_artists_tags = defaultdict(list)\n",
    "    megalist = []\n",
    "    for tag in tags_list:\n",
    "        tag = tag.replace('&', 'and')\n",
    "        url = 'http://ws.audioscrobbler.com/2.0/?method=artist.getsimilar&artist=' + tag + '&api_key=' + API_KEY + '&format=json&limit=30'\n",
    "        r = requests.get(url)\n",
    "        r_json = json.loads(r.content)\n",
    "        try:\n",
    "            similar_artists = r_json['similarartists']['artist']\n",
    "            for a, artist in enumerate(similar_artists):\n",
    "                if artist['name'] not in dict_cluster_artists[i] and artist['name'] not in all_artists:\n",
    "                    megalist.append(artist['name'])\n",
    "                    dict_artists_tags[tag].append(artist['name'])\n",
    "        except: pass\n",
    "    c = Counter(megalist).most_common(10)\n",
    "    recommendation_list.append(c)\n",
    "    print('For cluster with tags: ', end='')\n",
    "    for item in dict_cluster_tags[i]: print(item, end=', ')\n",
    "    print('\\nSuggestions:')\n",
    "    for item in c: print('- ', item[0], '(seen', item[1], 'times)')\n",
    "    print('\\n')"
   ]
  },
  {
   "cell_type": "markdown",
   "metadata": {},
   "source": [
    "_Soundtrack for this first part of the study: [Liam Gallagher - Why Me? Why Not.](https://open.spotify.com/album/6iInyjotj1rYpx3vbX0MxX?si=k5tz1UJ3RfGeEFPk4F_1dA)_\n",
    "\n",
    "![Liam Gallagher](https://imgur.com/uOUASLkt.png)\n",
    "\n",
    "Wowwww, I got really excited about this!!!\n",
    "\n",
    "Using [Spotipy](https://github.com/plamere/spotipy/)/Spotify's API, let's create playlists for the recommended artists, according to the clusters:"
   ]
  },
  {
   "cell_type": "code",
   "execution_count": null,
   "metadata": {},
   "outputs": [],
   "source": [
    "import spotipy\n",
    "from spotipy.oauth2 import SpotifyClientCredentials\n",
    "import spotipy.util as util\n",
    "\n",
    "username = 'ohhrosie'\n",
    "\n",
    "create_playlists = 0\n",
    "# we'll hide the next cell because it displays sensitive API information, but it's:\n",
    "# token = util.prompt_for_user_token(username, scope='playlist-modify-private playlist-modify-public')"
   ]
  },
  {
   "cell_type": "code",
   "execution_count": null,
   "metadata": {},
   "outputs": [],
   "source": [
    "token = util.prompt_for_user_token(username, scope='playlist-modify-private playlist-modify-public')"
   ]
  },
  {
   "cell_type": "code",
   "execution_count": null,
   "metadata": {},
   "outputs": [],
   "source": [
    "for r, rec in enumerate(recommendation_list):\n",
    "    tags = dict_cluster_tags[r][:3]\n",
    "    playlist_name = '[' + user + '] Cluster ' + str(r) + ': ' +' + '.join(tags)\n",
    "    artists_names = [i[0] for i in rec]\n",
    "\n",
    "    username = 'ohhrosie'\n",
    "    sp = spotipy.Spotify(auth=token)\n",
    "    playlists = sp.user_playlist_create(username, playlist_name, public=True)\n",
    "    playlist_id = playlists['id']\n",
    "    print('Creating playlist for cluster ' + str(r) + ' - link: ' + playlists['external_urls']['spotify'])\n",
    "    \n",
    "    for artist in artists_names:\n",
    "        results = sp.search(q='artist:' + artist, type='artist')\n",
    "        try:\n",
    "            id_ = results['artists']['items'][0]['id']\n",
    "            urn = 'spotify:artist:' + str(id_)\n",
    "            response = sp.artist_top_tracks(urn)\n",
    "            track_ids = []\n",
    "\n",
    "            for i in range(4):\n",
    "                try:\n",
    "                    track_ids.append(response['tracks'][i]['id'])\n",
    "                except:\n",
    "                    print('Tracks not available for ' + artist)\n",
    "\n",
    "            results = sp.user_playlist_add_tracks(username, playlist_id, track_ids)\n",
    "        except:\n",
    "            print('|________(Could not retrieve ' + artist + ')')"
   ]
  },
  {
   "cell_type": "markdown",
   "metadata": {},
   "source": [
    "_Soundtrack for this first part of the study: [Arcade Fire - The Suburbs](https://open.spotify.com/album/6zKSN3jupc6Sh8MsPZiACr?si=StlnqkQVSrGTsMyw4Emmvw)_\n",
    "\n",
    "![Arcade Fire](https://imgur.com/KzCHkVPt.png)"
   ]
  },
  {
   "cell_type": "code",
   "execution_count": null,
   "metadata": {},
   "outputs": [],
   "source": []
  }
 ],
 "metadata": {
  "kernelspec": {
   "display_name": "Python 3",
   "language": "python",
   "name": "python3"
  },
  "language_info": {
   "codemirror_mode": {
    "name": "ipython",
    "version": 3
   },
   "file_extension": ".py",
   "mimetype": "text/x-python",
   "name": "python",
   "nbconvert_exporter": "python",
   "pygments_lexer": "ipython3",
   "version": "3.9.4"
  }
 },
 "nbformat": 4,
 "nbformat_minor": 2
}
